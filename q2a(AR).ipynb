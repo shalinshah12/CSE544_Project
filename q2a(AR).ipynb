{
 "cells": [
  {
   "cell_type": "code",
   "execution_count": 1,
   "metadata": {
    "executionInfo": {
     "elapsed": 281,
     "status": "ok",
     "timestamp": 1620491094001,
     "user": {
      "displayName": "Shalin Rakesh Shah",
      "photoUrl": "https://lh3.googleusercontent.com/a-/AOh14GixtESyrfxrsDcUTAdr7T_3hv00ftOV3baWnMA0=s64",
      "userId": "02095085505841685425"
     },
     "user_tz": 240
    },
    "id": "Ydat4Hx5iLKB"
   },
   "outputs": [],
   "source": [
    "import pandas as pd\n",
    "import numpy as np"
   ]
  },
  {
   "cell_type": "code",
   "execution_count": 2,
   "metadata": {
    "executionInfo": {
     "elapsed": 274,
     "status": "ok",
     "timestamp": 1620501756742,
     "user": {
      "displayName": "Shalin Rakesh Shah",
      "photoUrl": "https://lh3.googleusercontent.com/a-/AOh14GixtESyrfxrsDcUTAdr7T_3hv00ftOV3baWnMA0=s64",
      "userId": "02095085505841685425"
     },
     "user_tz": 240
    },
    "id": "flLPExIsW0DX"
   },
   "outputs": [],
   "source": [
    "df_august = pd.read_excel(\"August.csv.xlsx\")"
   ]
  },
  {
   "cell_type": "code",
   "execution_count": 3,
   "metadata": {
    "executionInfo": {
     "elapsed": 216,
     "status": "ok",
     "timestamp": 1620500681200,
     "user": {
      "displayName": "Shalin Rakesh Shah",
      "photoUrl": "https://lh3.googleusercontent.com/a-/AOh14GixtESyrfxrsDcUTAdr7T_3hv00ftOV3baWnMA0=s64",
      "userId": "02095085505841685425"
     },
     "user_tz": 240
    },
    "id": "4LwokhlaIa1K"
   },
   "outputs": [],
   "source": [
    "def beta(x,y):\n",
    "  Xtrans = x.transpose()\n",
    "  Xtrans_X = np.matmul(Xtrans,x)\n",
    "  Xtrans_X_inv = np.linalg.inv(Xtrans_X)\n",
    "  Xtrans_Y = np.matmul(Xtrans_X_inv, Xtrans)\n",
    "#   print(Xtrans_Y.shape)\n",
    "  Beta_vals = np.matmul(Xtrans_Y,y)\n",
    "  return Beta_vals"
   ]
  },
  {
   "cell_type": "code",
   "execution_count": 4,
   "metadata": {},
   "outputs": [],
   "source": [
    "# p = [3, 5]\n",
    "y_pred = []\n",
    "def computex_y(a, p):\n",
    "  X = []\n",
    "  Y = []  \n",
    "  for i in range(len(a)):\n",
    "      if i+p<len(a):\n",
    "        val = list(a[i:i+p])\n",
    "        val.insert(0,1)\n",
    "        X.append(val)\n",
    "        Y.append(a[i+p])\n",
    "  X = np.array(X)\n",
    "  Y = np.array(Y)\n",
    "  return X, Y\n",
    "\n",
    "def error(b, y_pred):\n",
    "    sum1 = 0\n",
    "    for i, j in zip(b, y_pred):\n",
    "        ans = (i-j)**2\n",
    "        sum1+=ans\n",
    "    return sum1, sum1/len(b)\n",
    "\n",
    "def prediction(column_name):\n",
    "    a = np.array(df_august[column_name][:21])\n",
    "    b = np.array(df_august[column_name][21:])\n",
    "    p = [3,5]\n",
    "    for i in p:\n",
    "        initialX, initialY = computex_y(a, i)\n",
    "        beta1 = beta(initialX,initialY)\n",
    "        y_pred = []\n",
    "        for j in range(7):\n",
    "            z = a[-3:]\n",
    "            # z.insert(0,1)\n",
    "            ans = beta1[0] + beta1[1]*z[2] + beta1[2]*z[1] + beta1[3]*z[0]\n",
    "            a = list(a)\n",
    "            a.append(ans)\n",
    "            a = np.array(a)\n",
    "            y_pred.append(ans)\n",
    "            intermediateX, intermediateY = computex_y(a, i)\n",
    "            beta1 = beta(intermediateX, intermediateY)\n",
    "        error_sse, error_mse = error(b,y_pred)\n",
    "        print(column_name, error_sse, error_mse)\n",
    "    "
   ]
  },
  {
   "cell_type": "code",
   "execution_count": 5,
   "metadata": {},
   "outputs": [
    {
     "data": {
      "text/plain": [
       "Index(['Date', 'MT daily cases', 'NC daily cases', 'MT daily death',\n",
       "       'NC daily death', 'MT cumalative cases', 'NC cumalative cases',\n",
       "       'MT cumalative death', 'NC cumalative death'],\n",
       "      dtype='object')"
      ]
     },
     "execution_count": 5,
     "metadata": {},
     "output_type": "execute_result"
    }
   ],
   "source": [
    "df_august.columns"
   ]
  },
  {
   "cell_type": "code",
   "execution_count": 6,
   "metadata": {},
   "outputs": [
    {
     "name": "stdout",
     "output_type": "stream",
     "text": [
      "MT daily cases 18769.392053488853 2681.341721926979\n",
      "MT daily cases 14762.971447840217 2108.9959211200307\n",
      "NC daily cases 808130.7704170863 115447.25291672662\n",
      "NC daily cases 687462.9143040413 98208.98775772018\n",
      "MT daily death 41.31948270224258 5.902783243177511\n",
      "MT daily death 22.459395924594798 3.208485132084971\n",
      "NC daily death 1208.9731495501542 172.7104499357363\n",
      "NC daily death 2498.387463443008 356.9124947775726\n"
     ]
    }
   ],
   "source": [
    "column_name = ['MT daily cases', 'NC daily cases', 'MT daily death', 'NC daily death']\n",
    "for i in column_name:\n",
    "    prediction(i)"
   ]
  },
  {
   "cell_type": "code",
   "execution_count": null,
   "metadata": {},
   "outputs": [],
   "source": []
  }
 ],
 "metadata": {
  "colab": {
   "collapsed_sections": [],
   "name": "CSE544_PROJECT.ipynb",
   "provenance": []
  },
  "kernelspec": {
   "display_name": "Python 3",
   "language": "python",
   "name": "python3"
  },
  "language_info": {
   "codemirror_mode": {
    "name": "ipython",
    "version": 3
   },
   "file_extension": ".py",
   "mimetype": "text/x-python",
   "name": "python",
   "nbconvert_exporter": "python",
   "pygments_lexer": "ipython3",
   "version": "3.8.5"
  }
 },
 "nbformat": 4,
 "nbformat_minor": 1
}
