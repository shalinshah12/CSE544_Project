{
 "cells": [
  {
   "cell_type": "code",
   "execution_count": null,
   "metadata": {
    "id": "hMdK7Xcxr5gN"
   },
   "outputs": [],
   "source": [
    "import pandas as pd\n",
    "import numpy as np\n",
    "import math\n",
    "import matplotlib.pyplot as plt\n",
    "import datetime\n",
    "from datetime import datetime as dt"
   ]
  },
  {
   "cell_type": "code",
   "execution_count": null,
   "metadata": {
    "colab": {
     "base_uri": "https://localhost:8080/"
    },
    "id": "_0BAUrbIsD96",
    "outputId": "f98cb7ef-30c0-40e8-d8bf-eb73d786a7f6"
   },
   "outputs": [
    {
     "name": "stdout",
     "output_type": "stream",
     "text": [
      "Drive already mounted at /content/drive; to attempt to forcibly remount, call drive.mount(\"/content/drive\", force_remount=True).\n",
      "/content/drive/.shortcut-targets-by-id/1YQyVsZWGB7sACOZzGllQA0QwFc_E5Nb1/CSE544_PROJECT\n"
     ]
    }
   ],
   "source": [
    "from google.colab import drive\n",
    "drive.mount('/content/drive')\n",
    "%cd '/content/drive/MyDrive/CSE544_PROJECT'\n",
    "# %ls -l"
   ]
  },
  {
   "cell_type": "code",
   "execution_count": null,
   "metadata": {
    "colab": {
     "base_uri": "https://localhost:8080/",
     "height": 195
    },
    "id": "YVhJ2mQ7sFnK",
    "outputId": "d7049904-96f4-42c6-8174-6dacac7c10c8"
   },
   "outputs": [
    {
     "data": {
      "text/html": [
       "<div>\n",
       "<style scoped>\n",
       "    .dataframe tbody tr th:only-of-type {\n",
       "        vertical-align: middle;\n",
       "    }\n",
       "\n",
       "    .dataframe tbody tr th {\n",
       "        vertical-align: top;\n",
       "    }\n",
       "\n",
       "    .dataframe thead th {\n",
       "        text-align: right;\n",
       "    }\n",
       "</style>\n",
       "<table border=\"1\" class=\"dataframe\">\n",
       "  <thead>\n",
       "    <tr style=\"text-align: right;\">\n",
       "      <th></th>\n",
       "      <th>Date</th>\n",
       "      <th>MT confirmed</th>\n",
       "      <th>NC confirmed</th>\n",
       "      <th>MT deaths</th>\n",
       "      <th>NC deaths</th>\n",
       "    </tr>\n",
       "  </thead>\n",
       "  <tbody>\n",
       "    <tr>\n",
       "      <th>0</th>\n",
       "      <td>2020-01-22</td>\n",
       "      <td>0</td>\n",
       "      <td>0</td>\n",
       "      <td>0</td>\n",
       "      <td>0</td>\n",
       "    </tr>\n",
       "    <tr>\n",
       "      <th>1</th>\n",
       "      <td>2020-01-23</td>\n",
       "      <td>0</td>\n",
       "      <td>0</td>\n",
       "      <td>0</td>\n",
       "      <td>0</td>\n",
       "    </tr>\n",
       "    <tr>\n",
       "      <th>2</th>\n",
       "      <td>2020-01-24</td>\n",
       "      <td>0</td>\n",
       "      <td>0</td>\n",
       "      <td>0</td>\n",
       "      <td>0</td>\n",
       "    </tr>\n",
       "    <tr>\n",
       "      <th>3</th>\n",
       "      <td>2020-01-25</td>\n",
       "      <td>0</td>\n",
       "      <td>0</td>\n",
       "      <td>0</td>\n",
       "      <td>0</td>\n",
       "    </tr>\n",
       "    <tr>\n",
       "      <th>4</th>\n",
       "      <td>2020-01-26</td>\n",
       "      <td>0</td>\n",
       "      <td>0</td>\n",
       "      <td>0</td>\n",
       "      <td>0</td>\n",
       "    </tr>\n",
       "  </tbody>\n",
       "</table>\n",
       "</div>"
      ],
      "text/plain": [
       "         Date  MT confirmed  NC confirmed  MT deaths  NC deaths\n",
       "0  2020-01-22             0             0          0          0\n",
       "1  2020-01-23             0             0          0          0\n",
       "2  2020-01-24             0             0          0          0\n",
       "3  2020-01-25             0             0          0          0\n",
       "4  2020-01-26             0             0          0          0"
      ]
     },
     "execution_count": 16,
     "metadata": {
      "tags": []
     },
     "output_type": "execute_result"
    }
   ],
   "source": [
    "df = pd.read_csv('14.csv')\n",
    "df.head()"
   ]
  },
  {
   "cell_type": "code",
   "execution_count": null,
   "metadata": {
    "id": "Z6reg6YCsSIH"
   },
   "outputs": [],
   "source": [
    "MT_cases = df['MT confirmed'].tolist()\n",
    "NC_cases = df['NC confirmed'].tolist()\n",
    "MT_death = df['MT deaths'].tolist()\n",
    "NC_death = df['NC deaths'].tolist()"
   ]
  },
  {
   "cell_type": "code",
   "execution_count": null,
   "metadata": {
    "id": "hBHEikr0sLB3"
   },
   "outputs": [],
   "source": [
    "# Get daily data \n",
    "\n",
    "def get_daily(sample_A):\n",
    "  data_daily = [0] * len(sample_A)\n",
    "  data_daily[0] = sample_A[0]\n",
    "  for x in range(1, len(sample_A)):\n",
    "    data_daily[x] = int(sample_A[x] - sample_A[x-1])\n",
    "  return data_daily"
   ]
  },
  {
   "cell_type": "code",
   "execution_count": null,
   "metadata": {
    "id": "b11CCrjJtj1L"
   },
   "outputs": [],
   "source": [
    "MT_cases_daily = get_daily(MT_cases)\n",
    "NC_cases_daily = get_daily(NC_cases)\n",
    "MT_death_daily = get_daily(MT_death)\n",
    "NC_death_daily = get_daily(NC_death)"
   ]
  },
  {
   "cell_type": "code",
   "execution_count": null,
   "metadata": {
    "id": "0XqA3aSNu3Zu"
   },
   "outputs": [],
   "source": [
    "# Remove negative values (negative values are incorrect information which may not be removed by Tukey's rule if IQR is high)\n",
    "\n",
    "def remove_negative(sample_A):\n",
    "  count = 0\n",
    "  for i in range(1, len(sample_A)):\n",
    "    if(sample_A[i]<0 and sample_A[i-1]>=0 and sample_A[i+1]>=0):\n",
    "      sample_A[i] = (sample_A[i-1]+sample_A[i+1])/2\n",
    "      count += 1\n",
    "  print(count)\n",
    "  return sample_A"
   ]
  },
  {
   "cell_type": "code",
   "execution_count": null,
   "metadata": {
    "colab": {
     "base_uri": "https://localhost:8080/"
    },
    "id": "Si5unIGhv0vq",
    "outputId": "c79eea9b-bdc9-48b2-af6b-cfcb9983c6f6"
   },
   "outputs": [
    {
     "name": "stdout",
     "output_type": "stream",
     "text": [
      "2\n",
      "1\n",
      "3\n",
      "4\n"
     ]
    }
   ],
   "source": [
    "MT_cases_daily = remove_negative(MT_cases_daily)\n",
    "NC_cases_daily = remove_negative(NC_cases_daily)\n",
    "MT_death_daily = remove_negative(MT_death_daily)\n",
    "NC_death_daily = remove_negative(NC_death_daily)"
   ]
  },
  {
   "cell_type": "code",
   "execution_count": null,
   "metadata": {
    "id": "vZZg3BbSwYU1"
   },
   "outputs": [],
   "source": [
    "# Substitute missing values (It can be seen that for some of the days the value of new cases or deaths is zero in times they should infact be non-zero. These are the\n",
    "# days for which data is missing and is marked as 0 in the dataset.)\n",
    "\n",
    "def substitute_missing_data(sample_A):\n",
    "  non_zero = 0\n",
    "  count = 0\n",
    "  for i in range(len(sample_A)):\n",
    "    if sample_A[i] != 0:\n",
    "      non_zero = i\n",
    "      break\n",
    "  print(non_zero)\n",
    "  for i in range(non_zero, len(df)):\n",
    "    if sample_A[i] == 0:\n",
    "        sample_A[i] = sample_A[i-1]\n",
    "        count +=1\n",
    "  print(count)\n",
    "  return sample_A"
   ]
  },
  {
   "cell_type": "code",
   "execution_count": null,
   "metadata": {
    "colab": {
     "base_uri": "https://localhost:8080/"
    },
    "id": "HkupzuH1yemQ",
    "outputId": "b7e248d9-849a-44d3-c853-ac4e8aabdd5d"
   },
   "outputs": [
    {
     "name": "stdout",
     "output_type": "stream",
     "text": [
      "51\n",
      "26\n",
      "41\n",
      "26\n",
      "66\n",
      "130\n",
      "63\n",
      "51\n"
     ]
    }
   ],
   "source": [
    "MT_cases_daily = substitute_missing_data(MT_cases_daily)\n",
    "NC_cases_daily = substitute_missing_data(NC_cases_daily)\n",
    "MT_death_daily = substitute_missing_data(MT_death_daily)\n",
    "NC_death_daily = substitute_missing_data(NC_death_daily)"
   ]
  },
  {
   "cell_type": "code",
   "execution_count": null,
   "metadata": {
    "id": "o2CXKH4qzRxF"
   },
   "outputs": [],
   "source": [
    "# apply tukeys rule for removing outliers\n",
    "\n",
    "import statistics\n",
    "\n",
    "def tukey(price_list):\n",
    "  month_price_list = []\n",
    "  # lst1 = price_list[i:i+30] for i in range(0,len(df)-30+1,30)]\n",
    "  for i in range(0,len(price_list)-30+1,30):\n",
    "    month_price_list.append(price_list[i:i+30])\n",
    "  month_price_list.append(price_list[(math.floor(len(price_list)/30))*30:])\n",
    "  price_list_tukey = []\n",
    "  print(\"Here are the outliers.\")\n",
    "  total_outliers = 0\n",
    "  for month in month_price_list:\n",
    "    median = statistics.median(month)\n",
    "    month_sorted = np.sort(month)\n",
    "    q25 = month_sorted[math.ceil((25/100)*len(month))-1]\n",
    "    q75 = month_sorted[math.ceil((75/100)*len(month))-1]\n",
    "    iqr = q75 - q25\n",
    "    cut_off = iqr * 1.5\n",
    "    lower, upper = q25 - cut_off, q75 + cut_off\n",
    "    numchanges = 0\n",
    "    for i, x in enumerate(month):\n",
    "        if x < lower or x > upper:\n",
    "            month[i] = median\n",
    "            numchanges += 1\n",
    "    total_outliers += numchanges\n",
    "    \n",
    "    # print(\"outliers = \", numchanges)\n",
    "    price_list_tukey.extend(month)\n",
    "    # plt.plot(price_list_tukey)\n",
    "  print(total_outliers)\n",
    "  return price_list_tukey\n",
    "\n"
   ]
  },
  {
   "cell_type": "code",
   "execution_count": null,
   "metadata": {
    "colab": {
     "base_uri": "https://localhost:8080/"
    },
    "id": "twTo4xaw0VPw",
    "outputId": "c47f36dc-4708-4d8c-efd9-9a6485b9e3d3"
   },
   "outputs": [
    {
     "name": "stdout",
     "output_type": "stream",
     "text": [
      "Here are the outliers.\n",
      "12\n",
      "Here are the outliers.\n",
      "20\n",
      "Here are the outliers.\n",
      "28\n",
      "Here are the outliers.\n",
      "12\n"
     ]
    }
   ],
   "source": [
    "MT_cases_daily = tukey(MT_cases_daily)\n",
    "NC_cases_daily = tukey(NC_cases_daily)\n",
    "MT_death_daily = tukey(MT_death_daily)\n",
    "NC_death_daily = tukey(NC_death_daily)"
   ]
  },
  {
   "cell_type": "code",
   "execution_count": null,
   "metadata": {
    "id": "7yjhBA2r2w7i"
   },
   "outputs": [],
   "source": [
    "# Add up the daily cases to get the total cases till date\n",
    "\n",
    "def cumulative_cases(sample_A):\n",
    "  cum_cases = [0] * len(sample_A)\n",
    "  total = 0\n",
    "  for i in range(len(sample_A)):\n",
    "    total += sample_A[i]\n",
    "    cum_cases[i] = total\n",
    "  return cum_cases"
   ]
  },
  {
   "cell_type": "code",
   "execution_count": null,
   "metadata": {
    "colab": {
     "base_uri": "https://localhost:8080/",
     "height": 326
    },
    "id": "AR5-8F2Cw5Tg",
    "outputId": "856e9b1c-0eb0-4bcc-b9e4-41af88952ea5"
   },
   "outputs": [
    {
     "data": {
      "text/plain": [
       "(array([737425., 737485., 737546., 737607., 737669., 737730., 737791.,\n",
       "        737850.]), <a list of 8 Text major ticklabel objects>)"
      ]
     },
     "execution_count": 26,
     "metadata": {
      "tags": []
     },
     "output_type": "execute_result"
    },
    {
     "data": {
      "image/png": "[encoded data removed]",
      "text/plain": [
       "<Figure size 432x288 with 1 Axes>"
      ]
     },
     "metadata": {
      "needs_background": "light",
      "tags": []
     },
     "output_type": "display_data"
    }
   ],
   "source": [
    "plt.plot(pd.to_datetime(df['Date']), NC_cases_daily)\n",
    "plt.xticks(rotation=45)"
   ]
  },
  {
   "cell_type": "code",
   "execution_count": null,
   "metadata": {
    "colab": {
     "base_uri": "https://localhost:8080/",
     "height": 326
    },
    "id": "X3jv7Z3wx2jq",
    "outputId": "ee5fe50a-6429-465c-da4f-d4b36d6ea34a"
   },
   "outputs": [
    {
     "data": {
      "text/plain": [
       "(array([737425., 737485., 737546., 737607., 737669., 737730., 737791.,\n",
       "        737850.]), <a list of 8 Text major ticklabel objects>)"
      ]
     },
     "execution_count": 27,
     "metadata": {
      "tags": []
     },
     "output_type": "execute_result"
    },
    {
     "data": {
      "image/png": "[encoded data removed]",
      "text/plain": [
       "<Figure size 432x288 with 1 Axes>"
      ]
     },
     "metadata": {
      "needs_background": "light",
      "tags": []
     },
     "output_type": "display_data"
    }
   ],
   "source": [
    "plt.plot(pd.to_datetime(df['Date']), MT_cases_daily)\n",
    "plt.xticks(rotation=45)"
   ]
  },
  {
   "cell_type": "code",
   "execution_count": null,
   "metadata": {
    "id": "gqqrxXR-3hUt"
   },
   "outputs": [],
   "source": [
    "cumulative_MT_cases_daily = cumulative_cases(MT_cases_daily)\n",
    "cumulative_NC_cases_daily = cumulative_cases(NC_cases_daily)\n",
    "cumulative_MT_death_daily = cumulative_cases(MT_death_daily)\n",
    "cumulative_NC_death_daily = cumulative_cases(NC_death_daily)"
   ]
  },
  {
   "cell_type": "code",
   "execution_count": null,
   "metadata": {
    "id": "g1Fm_gFN6twx"
   },
   "outputs": [],
   "source": [
    "# convert date format to mm/dd/yyyy\n",
    "\n",
    "def date_convert(sample_A):\n",
    "  for i in range(len(sample_A)):\n",
    "    d = datetime.datetime.strptime(sample_A[i], '%Y-%m-%d')\n",
    "    sample_A[i] = d.strftime('%m/%d/%Y')\n",
    "  return sample_A\n",
    "\n",
    "date = df['Date'].tolist()\n",
    "date = date_convert(date)"
   ]
  },
  {
   "cell_type": "code",
   "execution_count": null,
   "metadata": {
    "id": "gmPvwCNX2c6W"
   },
   "outputs": [],
   "source": [
    "dict = {'Date': date, 'MT daily cases': MT_cases_daily, 'NC daily cases': NC_cases_daily, 'MT daily death': MT_death_daily, 'NC daily death': NC_death_daily, 'MT cumalative cases': cumulative_MT_cases_daily, 'NC cumalative cases': cumulative_NC_cases_daily, 'MT cumalative death': cumulative_MT_death_daily, 'NC cumalative death': cumulative_NC_death_daily}         \n",
    "df1 = pd.DataFrame(dict) "
   ]
  },
  {
   "cell_type": "code",
   "execution_count": null,
   "metadata": {
    "id": "epy_xCX444Qf"
   },
   "outputs": [],
   "source": [
    "df1.to_csv('clean_organised.csv')"
   ]
  },
  {
   "cell_type": "code",
   "execution_count": null,
   "metadata": {
    "id": "ZIkQA_UL8WCw"
   },
   "outputs": [],
   "source": []
  }
 ],
 "metadata": {
  "colab": {
   "name": "1_data_cleaning.ipynb",
   "provenance": []
  },
  "kernelspec": {
   "display_name": "Python 3",
   "language": "python",
   "name": "python3"
  },
  "language_info": {
   "codemirror_mode": {
    "name": "ipython",
    "version": 3
   },
   "file_extension": ".py",
   "mimetype": "text/x-python",
   "name": "python",
   "nbconvert_exporter": "python",
   "pygments_lexer": "ipython3",
   "version": "3.8.5"
  }
 },
 "nbformat": 4,
 "nbformat_minor": 1
}
