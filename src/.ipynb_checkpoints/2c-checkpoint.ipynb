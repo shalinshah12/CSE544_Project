{
 "cells": [
  {
   "cell_type": "code",
   "execution_count": 24,
   "metadata": {
    "executionInfo": {
     "elapsed": 258,
     "status": "ok",
     "timestamp": 1621008398137,
     "user": {
      "displayName": "Sneh Amit Shah",
      "photoUrl": "https://lh3.googleusercontent.com/a-/AOh14Gjo8J3WJAvmOh7e1vtdSqLfjyuIM5UMOr_18SG-=s64",
      "userId": "15192936999926771237"
     },
     "user_tz": 240
    },
    "id": "fLNNQyr_6I0r"
   },
   "outputs": [],
   "source": [
    "import pandas as pd\n",
    "import numpy as np\n",
    "import math\n",
    "from statistics import mean, median"
   ]
  },
  {
   "cell_type": "code",
   "execution_count": 25,
   "metadata": {
    "colab": {
     "base_uri": "https://localhost:8080/"
    },
    "executionInfo": {
     "elapsed": 308,
     "status": "ok",
     "timestamp": 1621008399046,
     "user": {
      "displayName": "Sneh Amit Shah",
      "photoUrl": "https://lh3.googleusercontent.com/a-/AOh14Gjo8J3WJAvmOh7e1vtdSqLfjyuIM5UMOr_18SG-=s64",
      "userId": "15192936999926771237"
     },
     "user_tz": 240
    },
    "id": "i1QzBjY36Q4Q",
    "outputId": "2e1108d2-808c-4179-9fee-6fcfbfed75b3"
   },
   "outputs": [
    {
     "name": "stdout",
     "output_type": "stream",
     "text": [
      "Drive already mounted at /content/drive; to attempt to forcibly remount, call drive.mount(\"/content/drive\", force_remount=True).\n"
     ]
    }
   ],
   "source": [
    "from google.colab import drive\n",
    "drive.mount('/content/drive')"
   ]
  },
  {
   "cell_type": "code",
   "execution_count": 26,
   "metadata": {
    "colab": {
     "base_uri": "https://localhost:8080/"
    },
    "executionInfo": {
     "elapsed": 355,
     "status": "ok",
     "timestamp": 1621008400780,
     "user": {
      "displayName": "Sneh Amit Shah",
      "photoUrl": "https://lh3.googleusercontent.com/a-/AOh14Gjo8J3WJAvmOh7e1vtdSqLfjyuIM5UMOr_18SG-=s64",
      "userId": "15192936999926771237"
     },
     "user_tz": 240
    },
    "id": "mCLh-qPyrR3u",
    "outputId": "ddc129c4-7c04-43b4-acec-410a2fcd59dd"
   },
   "outputs": [
    {
     "name": "stdout",
     "output_type": "stream",
     "text": [
      "/content/drive/.shortcut-targets-by-id/1YQyVsZWGB7sACOZzGllQA0QwFc_E5Nb1/CSE544_PROJECT\n"
     ]
    }
   ],
   "source": [
    "%cd '/content/drive/MyDrive/CSE544_PROJECT'\n",
    "# %ls -l"
   ]
  },
  {
   "cell_type": "code",
   "execution_count": 27,
   "metadata": {
    "executionInfo": {
     "elapsed": 265,
     "status": "ok",
     "timestamp": 1621008402749,
     "user": {
      "displayName": "Sneh Amit Shah",
      "photoUrl": "https://lh3.googleusercontent.com/a-/AOh14Gjo8J3WJAvmOh7e1vtdSqLfjyuIM5UMOr_18SG-=s64",
      "userId": "15192936999926771237"
     },
     "user_tz": 240
    },
    "id": "yn8vRereaaRx"
   },
   "outputs": [],
   "source": [
    "from datetime import datetime as dt\n",
    "import datetime\n",
    "\n",
    "start = datetime.datetime(2020, 10, 1)\n",
    "end = datetime.datetime(2020, 12, 31)\n",
    "df_clean = pd.read_csv('clean_organised.csv')\n",
    "\n",
    "def get_data(start, end, df_clean):\n",
    "  MT_daily_cases = [int(df_clean['MT daily cases'][i]) for i in range(0, len(df_clean['Date'])) if dt.strptime(df_clean['Date'][i], \"%m/%d/%Y\")>=start and dt.strptime(df_clean['Date'][i], \"%m/%d/%Y\")<=end]\n",
    "  NC_daily_cases = [int(df_clean['NC daily cases'][i]) for i in range(0, len(df_clean['Date'])) if dt.strptime(df_clean['Date'][i], \"%m/%d/%Y\")>=start and dt.strptime(df_clean['Date'][i], \"%m/%d/%Y\")<=end]\n",
    "  MT_daily_death = [int(df_clean['MT daily death'][i]) for i in range(0, len(df_clean['Date'])) if dt.strptime(df_clean['Date'][i], \"%m/%d/%Y\")>=start and dt.strptime(df_clean['Date'][i], \"%m/%d/%Y\")<=end]\n",
    "  NC_daily_death = [int(df_clean['NC daily death'][i]) for i in range(0, len(df_clean['Date'])) if dt.strptime(df_clean['Date'][i], \"%m/%d/%Y\")>=start and dt.strptime(df_clean['Date'][i], \"%m/%d/%Y\")<=end]\n",
    "  return MT_daily_cases, NC_daily_cases, MT_daily_death, NC_daily_death\n",
    "\n",
    "MT_daily_cases, NC_daily_cases, MT_daily_death, NC_daily_death =  get_data(start, end, df_clean)"
   ]
  },
  {
   "cell_type": "code",
   "execution_count": 11,
   "metadata": {
    "executionInfo": {
     "elapsed": 282,
     "status": "ok",
     "timestamp": 1621004236001,
     "user": {
      "displayName": "Sneh Amit Shah",
      "photoUrl": "https://lh3.googleusercontent.com/a-/AOh14Gjo8J3WJAvmOh7e1vtdSqLfjyuIM5UMOr_18SG-=s64",
      "userId": "15192936999926771237"
     },
     "user_tz": 240
    },
    "id": "AIBsBuz8h3NK"
   },
   "outputs": [],
   "source": [
    "# poisson\n",
    "\n",
    "import matplotlib.pyplot as plt\n",
    "from scipy.stats import poisson\n",
    "\n",
    "def poisson_points(lam, n):\n",
    "  points = []\n",
    "  for i in range(int(n)):\n",
    "      y = poisson.cdf(i, lam)\n",
    "      points.append(y)\n",
    "  return points\n",
    "\n",
    "def poisson_KS(sample_A, sample_B):\n",
    "  sample1=np.array(sample_A)\n",
    "  sample2=np.array(sample_B)\n",
    "  lambda_mme_mtdeath = sample1.mean()\n",
    "  lst=[]\n",
    "  k=0\n",
    "  for index, x in enumerate(sample2):\n",
    "      k += x\n",
    "      lst.append(k)\n",
    "  lst=np.array(lst)\n",
    "  lst=lst/k\n",
    "  maxp = max(sample2)\n",
    "  points = poisson_points(lambda_mme_mtdeath, int(max(sample2)))\n",
    "  list_1 = list(sample2)\n",
    "  list_2 = np.array(points)\n",
    "  list_1=np.sort(list_1)\n",
    "  y1=np.ones(int(max(sample2)))\n",
    "  y2=np.ones(int(max(sample2)))\n",
    "  max_1=0\n",
    "  max_p=0\n",
    "  i = 0\n",
    "  for n in range(int(max(sample2))):\n",
    "      temp1 = np.searchsorted(list_1,n,side='right')/len(list_1)\n",
    "      temp2 = np.searchsorted(list_1,n,side='left')/len(list_1)\n",
    "      y1[n] = temp1\n",
    "      y2[n] = list_2[i]\n",
    "      z1=max(abs(temp1-y2[n]),abs(temp2-y2[n]))\n",
    "      if z1>max_1:\n",
    "          max_1 = z1\n",
    "          max_p = n\n",
    "      i+=1\n",
    "  print(max_p)\n",
    "  print(max_1)\n",
    "  if max_1>0.05:\n",
    "    print(\"Hypothesis Rejected\")\n",
    "  else:\n",
    "    print(\"Hypothesis Accepted\")\n",
    "  plt.plot(np.arange(int(max(sample2))), y1, label = \"eCDF for second state\")\n",
    "  plt.plot(np.arange(int(max(sample2))), y2, label = \"CDF for poisson dist using MME estimator from first state\")\n",
    "  plt.axvline(x=max_p)\n",
    "  plt.legend(loc='center left', bbox_to_anchor=(1, 0.5))\n",
    "\n",
    "  "
   ]
  },
  {
   "cell_type": "code",
   "execution_count": 12,
   "metadata": {
    "colab": {
     "base_uri": "https://localhost:8080/",
     "height": 315
    },
    "executionInfo": {
     "elapsed": 866,
     "status": "ok",
     "timestamp": 1621004237949,
     "user": {
      "displayName": "Sneh Amit Shah",
      "photoUrl": "https://lh3.googleusercontent.com/a-/AOh14Gjo8J3WJAvmOh7e1vtdSqLfjyuIM5UMOr_18SG-=s64",
      "userId": "15192936999926771237"
     },
     "user_tz": 240
    },
    "id": "-mXrCB720JNd",
    "outputId": "6e63a987-d587-4666-e108-e35367913ab7"
   },
   "outputs": [
    {
     "name": "stdout",
     "output_type": "stream",
     "text": [
      "16\n",
      "0.930208449695998\n",
      "Hypothesis Rejected\n"
     ]
    },
    {
     "data": {
      "image/png": "[encoded data removed]",
      "text/plain": [
       "<Figure size 432x288 with 1 Axes>"
      ]
     },
     "metadata": {
      "needs_background": "light",
      "tags": []
     },
     "output_type": "display_data"
    }
   ],
   "source": [
    "poisson_KS(MT_daily_death, NC_daily_death)"
   ]
  },
  {
   "cell_type": "code",
   "execution_count": 13,
   "metadata": {
    "colab": {
     "base_uri": "https://localhost:8080/",
     "height": 315
    },
    "executionInfo": {
     "elapsed": 1814,
     "status": "ok",
     "timestamp": 1621004241958,
     "user": {
      "displayName": "Sneh Amit Shah",
      "photoUrl": "https://lh3.googleusercontent.com/a-/AOh14Gjo8J3WJAvmOh7e1vtdSqLfjyuIM5UMOr_18SG-=s64",
      "userId": "15192936999926771237"
     },
     "user_tz": 240
    },
    "id": "DBOkTxP8zsVf",
    "outputId": "9ee9f811-1a17-422e-f0f7-e544bf528437"
   },
   "outputs": [
    {
     "name": "stdout",
     "output_type": "stream",
     "text": [
      "980\n",
      "0.9782608695652174\n",
      "Hypothesis Rejected\n"
     ]
    },
    {
     "data": {
      "image/png": "[encoded data removed]",
      "text/plain": [
       "<Figure size 432x288 with 1 Axes>"
      ]
     },
     "metadata": {
      "needs_background": "light",
      "tags": []
     },
     "output_type": "display_data"
    }
   ],
   "source": [
    "poisson_KS(MT_daily_cases, NC_daily_cases)"
   ]
  },
  {
   "cell_type": "code",
   "execution_count": 14,
   "metadata": {
    "executionInfo": {
     "elapsed": 293,
     "status": "ok",
     "timestamp": 1621004270096,
     "user": {
      "displayName": "Sneh Amit Shah",
      "photoUrl": "https://lh3.googleusercontent.com/a-/AOh14Gjo8J3WJAvmOh7e1vtdSqLfjyuIM5UMOr_18SG-=s64",
      "userId": "15192936999926771237"
     },
     "user_tz": 240
    },
    "id": "oXHnaZ2P1IBe"
   },
   "outputs": [],
   "source": [
    "# Geometric\n",
    "\n",
    "def geo_points(p, n):\n",
    "    points = []\n",
    "    x=0\n",
    "    for i in range(n):\n",
    "        x=1-((1-p)**(i))\n",
    "        points.append(x)\n",
    "    return points\n",
    "\n",
    "def geometric_KS(sample_A, sample_B):\n",
    "  sample1=np.array(sample_A)\n",
    "  sample2=np.array(sample_B)\n",
    "  p_mme_mtdeath = 1/sample1.mean()\n",
    "  lst=[]\n",
    "  k=0\n",
    "  for index, x in enumerate(sample2):\n",
    "      k+=x\n",
    "      lst.append(k)\n",
    "  lst=np.array(lst)\n",
    "  lst=lst/k\n",
    "\n",
    "  maxp = np.max(sample2)\n",
    "  points = geo_points(p_mme_mtdeath, int(max(sample2)))\n",
    "\n",
    "  list_1 = list(sample2)\n",
    "  list_2 = np.array(points)\n",
    "  list_1=np.sort(list_1)\n",
    "  y1=np.ones(int(max(sample2)))\n",
    "  y2=np.ones(int(max(sample2)))\n",
    "  max_1=0\n",
    "  max_p=0\n",
    "  i = 0\n",
    "  for n in range(int(max(sample2))):\n",
    "      temp1 = np.searchsorted(list_1,n,side='right')/len(list_1)\n",
    "      temp2 = np.searchsorted(list_1,n,side='left')/len(list_1)\n",
    "      y1[n] = temp1\n",
    "      y2[n]=list_2[i]\n",
    "      # z1=abs(y1[n]-y2[n])\n",
    "      z1=max(abs(temp1-y2[n]),abs(temp2-y2[n]))\n",
    "      if z1>max_1:\n",
    "          max_1 = z1\n",
    "          max_p = n\n",
    "      i+=1\n",
    "  print(max_1)\n",
    "  print(max_p)\n",
    "  if max_1>0.05:\n",
    "    print(\"Hypothesis Rejected\")\n",
    "  else:\n",
    "    print(\"Hypothesis Accepted\")\n",
    "  \n",
    "  plt.plot(np.arange(int(max(sample2))), y1, label = \"eCDF for second state\")\n",
    "  plt.plot(np.arange(int(max(sample2))), y2, label = \"CDF for poisson dist using MME estimator from first state\")\n",
    "  plt.axvline(x=max_p)\n",
    "  plt.legend(loc='center left', bbox_to_anchor=(1, 0.5))"
   ]
  },
  {
   "cell_type": "code",
   "execution_count": 15,
   "metadata": {
    "colab": {
     "base_uri": "https://localhost:8080/",
     "height": 315
    },
    "executionInfo": {
     "elapsed": 631,
     "status": "ok",
     "timestamp": 1621004271429,
     "user": {
      "displayName": "Sneh Amit Shah",
      "photoUrl": "https://lh3.googleusercontent.com/a-/AOh14Gjo8J3WJAvmOh7e1vtdSqLfjyuIM5UMOr_18SG-=s64",
      "userId": "15192936999926771237"
     },
     "user_tz": 240
    },
    "id": "qc0p6nxq15nR",
    "outputId": "7c57582b-b1ff-4465-9d63-6e1b976bd6db"
   },
   "outputs": [
    {
     "name": "stdout",
     "output_type": "stream",
     "text": [
      "0.828442430917523\n",
      "18\n",
      "Hypothesis Rejected\n"
     ]
    },
    {
     "data": {
      "image/png": "[encoded data removed]",
      "text/plain": [
       "<Figure size 432x288 with 1 Axes>"
      ]
     },
     "metadata": {
      "needs_background": "light",
      "tags": []
     },
     "output_type": "display_data"
    }
   ],
   "source": [
    "geometric_KS(MT_daily_death, NC_daily_death)"
   ]
  },
  {
   "cell_type": "code",
   "execution_count": 16,
   "metadata": {
    "colab": {
     "base_uri": "https://localhost:8080/",
     "height": 315
    },
    "executionInfo": {
     "elapsed": 654,
     "status": "ok",
     "timestamp": 1621004274604,
     "user": {
      "displayName": "Sneh Amit Shah",
      "photoUrl": "https://lh3.googleusercontent.com/a-/AOh14Gjo8J3WJAvmOh7e1vtdSqLfjyuIM5UMOr_18SG-=s64",
      "userId": "15192936999926771237"
     },
     "user_tz": 240
    },
    "id": "_NxlQGF22KDy",
    "outputId": "7b0ef8e0-250e-406c-ce3f-8957e51dbc4d"
   },
   "outputs": [
    {
     "name": "stdout",
     "output_type": "stream",
     "text": [
      "0.8157381468179481\n",
      "1515\n",
      "Hypothesis Rejected\n"
     ]
    },
    {
     "data": {
      "image/png": "[encoded data removed]",
      "text/plain": [
       "<Figure size 432x288 with 1 Axes>"
      ]
     },
     "metadata": {
      "needs_background": "light",
      "tags": []
     },
     "output_type": "display_data"
    }
   ],
   "source": [
    "geometric_KS(MT_daily_cases, NC_daily_cases)"
   ]
  },
  {
   "cell_type": "code",
   "execution_count": 17,
   "metadata": {
    "executionInfo": {
     "elapsed": 317,
     "status": "ok",
     "timestamp": 1621004287225,
     "user": {
      "displayName": "Sneh Amit Shah",
      "photoUrl": "https://lh3.googleusercontent.com/a-/AOh14Gjo8J3WJAvmOh7e1vtdSqLfjyuIM5UMOr_18SG-=s64",
      "userId": "15192936999926771237"
     },
     "user_tz": 240
    },
    "id": "dCbJ1bM02Y15"
   },
   "outputs": [],
   "source": [
    "#binomial\n",
    "\n",
    "import math\n",
    "import scipy.special\n",
    "from scipy.stats import binom\n",
    "\n",
    "def binomial_points(p, n, total):\n",
    "    points = []\n",
    "    x=0\n",
    "    for k in range(total):\n",
    "        #y = scipy.special.binom(n, k) * (p**k) * (1-p)**(n-k)\n",
    "        #x+=y\n",
    "        x = binom.cdf(k, n, p)\n",
    "        points.append(x)\n",
    "    return points\n",
    "\n",
    "def binomial_KS(sample_A, sample_B):\n",
    "  sample1=np.array(sample_A)\n",
    "  sample2=np.array(sample_B)\n",
    "  mean = sample1.mean()\n",
    "  print(mean)\n",
    "  var = np.var(sample1)\n",
    "  # sd = var**0.5\n",
    "  print(var)\n",
    "  p = 1 - var/mean\n",
    "  # n = mean**2/(mean - var)\n",
    "  n = mean/p\n",
    "  # p = mean/n\n",
    "  print(p,n)\n",
    "  lst=[]\n",
    "  k=0\n",
    "  for index, x in enumerate(sample2):\n",
    "      k+=x\n",
    "      lst.append(k)\n",
    "  lst=np.array(lst)\n",
    "  lst=lst/k\n",
    "  \n",
    "  maxp = np.max(sample2)\n",
    "  points = binomial_points(p, n, int(max(sample2)))\n",
    "  # print(points)\n",
    "  list_1 = list(sample2)\n",
    "  list_2 = np.array(points)\n",
    "  list_1=np.sort(list_1)\n",
    "  y1=np.ones(int(max(sample2)))\n",
    "  y2=np.ones(int(max(sample2)))\n",
    "  max_1=0\n",
    "  max_p=0\n",
    "  i = 0\n",
    "  for n in range(int(max(sample2))):\n",
    "      temp1 = np.searchsorted(list_1,n,side='right')/len(list_1)\n",
    "      temp2 = np.searchsorted(list_1,n,side='left')/len(list_1)\n",
    "      y1[n] = temp1\n",
    "      y2[n]=list_2[i]\n",
    "      z1=z1=max(abs(temp1-y2[n]),abs(temp2-y2[n]))\n",
    "      if z1>max_1:\n",
    "          max_1 = z1\n",
    "          max_p = n\n",
    "      i+=1\n",
    "  print(max_1)\n",
    "  print(max_p)\n",
    "  if max_1>0.05:\n",
    "    print(\"Hypothesis Rejected\")\n",
    "  else:\n",
    "    print(\"Hypothesis Accepted\")\n",
    "  \n",
    "  plt.plot(np.arange(int(max(sample2))), y1, label = \"eCDF for second state\")\n",
    "  plt.plot(np.arange(int(max(sample2))), y2, label = \"CDF for poisson dist using MME estimator from first state\")\n",
    "  plt.axvline(x=max_p)\n",
    "  plt.legend(loc='center left', bbox_to_anchor=(1, 0.5))"
   ]
  },
  {
   "cell_type": "code",
   "execution_count": 18,
   "metadata": {
    "colab": {
     "base_uri": "https://localhost:8080/",
     "height": 366
    },
    "executionInfo": {
     "elapsed": 688,
     "status": "ok",
     "timestamp": 1621004288452,
     "user": {
      "displayName": "Sneh Amit Shah",
      "photoUrl": "https://lh3.googleusercontent.com/a-/AOh14Gjo8J3WJAvmOh7e1vtdSqLfjyuIM5UMOr_18SG-=s64",
      "userId": "15192936999926771237"
     },
     "user_tz": 240
    },
    "id": "-woEWeSU2yR1",
    "outputId": "24356f21-4673-480f-ae16-e07b3cbbc428"
   },
   "outputs": [
    {
     "name": "stdout",
     "output_type": "stream",
     "text": [
      "8.173913043478262\n",
      "41.7523629489603\n",
      "-4.108001850138759 -1.9897539829983681\n",
      "1.0\n",
      "0\n",
      "Hypothesis Rejected\n"
     ]
    },
    {
     "data": {
      "image/png": "[encoded data removed]",
      "text/plain": [
       "<Figure size 432x288 with 1 Axes>"
      ]
     },
     "metadata": {
      "needs_background": "light",
      "tags": []
     },
     "output_type": "display_data"
    }
   ],
   "source": [
    "binomial_KS(MT_daily_death, NC_daily_death)"
   ]
  },
  {
   "cell_type": "code",
   "execution_count": 19,
   "metadata": {
    "colab": {
     "base_uri": "https://localhost:8080/",
     "height": 366
    },
    "executionInfo": {
     "elapsed": 1072,
     "status": "ok",
     "timestamp": 1621004291498,
     "user": {
      "displayName": "Sneh Amit Shah",
      "photoUrl": "https://lh3.googleusercontent.com/a-/AOh14Gjo8J3WJAvmOh7e1vtdSqLfjyuIM5UMOr_18SG-=s64",
      "userId": "15192936999926771237"
     },
     "user_tz": 240
    },
    "id": "SIk2SSYE2-Al",
    "outputId": "55053ec8-4612-4742-e3e0-9eeca679ce00"
   },
   "outputs": [
    {
     "name": "stdout",
     "output_type": "stream",
     "text": [
      "742.8260869565217\n",
      "76911.90453686201\n",
      "-102.53958468526932 -7.244286089479695\n",
      "1.0\n",
      "0\n",
      "Hypothesis Rejected\n"
     ]
    },
    {
     "data": {
      "image/png": "[encoded data removed]",
      "text/plain": [
       "<Figure size 432x288 with 1 Axes>"
      ]
     },
     "metadata": {
      "needs_background": "light",
      "tags": []
     },
     "output_type": "display_data"
    }
   ],
   "source": [
    "binomial_KS(MT_daily_cases, NC_daily_cases)"
   ]
  },
  {
   "cell_type": "code",
   "execution_count": 20,
   "metadata": {
    "executionInfo": {
     "elapsed": 455,
     "status": "ok",
     "timestamp": 1621004348740,
     "user": {
      "displayName": "Sneh Amit Shah",
      "photoUrl": "https://lh3.googleusercontent.com/a-/AOh14Gjo8J3WJAvmOh7e1vtdSqLfjyuIM5UMOr_18SG-=s64",
      "userId": "15192936999926771237"
     },
     "user_tz": 240
    },
    "id": "uNgri6DI50sG"
   },
   "outputs": [],
   "source": [
    "#ks two sample test \n",
    "\n",
    "def ks_2_sample(sample_A, sample_B):\n",
    "\n",
    "  list_1 = np.array(sample_A)\n",
    "  list_2 = np.array(sample_B)\n",
    "  list1=np.sort(list_1)\n",
    "  list2=np.sort(list_2)\n",
    "  size=int(max(max(list1), max(list2)))\n",
    "  y1=np.ones(size)\n",
    "  y2=np.ones(size)\n",
    "  max_1=0\n",
    "  max_p=0\n",
    "  # print(int(max(list1)))\n",
    "  # print(int(max(list2)))\n",
    "  d = []\n",
    "  for n in range(int(max(max(list1), max(list2)))):\n",
    "      # print(n)\n",
    "      \n",
    "\n",
    "      n=int(n)\n",
    "      y1[n]=np.searchsorted(list_1,n,side='right')/len(list_1)\n",
    "      y2[n]=np.searchsorted(list_2,n,side='right')/len(list_2)\n",
    "      if n in list1:\n",
    "        z1=max(abs(y1[n]-y2[n]), abs(np.searchsorted(list_1,n,side='left')/len(list_1)-y2[n]))\n",
    "        if z1>max_1:\n",
    "            max_1 = z1\n",
    "            max_p = n\n",
    "  # y1, y2, max_1, max_p\n",
    "  print(max_1)\n",
    "  print(max_p)\n",
    "  if max_1>0.05:\n",
    "    print(\"Hypothesis Rejected\")\n",
    "  else:\n",
    "    print(\"Hypothesis Accepted\")\n",
    "  plt.plot(np.arange(int(max(max(list1), max(list2)))), y1, label = \"eCDF for first state\")\n",
    "  plt.plot(np.arange(int(max(max(list1), max(list2)))), y2, label = \"eCDF for second state\")\n",
    "  # plt.axvline(x=max_p)\n",
    "  # plt.plot(np.arange(int(max(sample2))), y1, label = \"eCDF for second state\")\n",
    "  # plt.plot(np.arange(int(max(sample2))), y2, label = \"CDF for poisson dist using MME estimator from first state\")\n",
    "  plt.axvline(x=max_p)\n",
    "  plt.legend(loc='center left', bbox_to_anchor=(1, 0.5))"
   ]
  },
  {
   "cell_type": "code",
   "execution_count": 21,
   "metadata": {
    "colab": {
     "base_uri": "https://localhost:8080/",
     "height": 315
    },
    "executionInfo": {
     "elapsed": 724,
     "status": "ok",
     "timestamp": 1621004350086,
     "user": {
      "displayName": "Sneh Amit Shah",
      "photoUrl": "https://lh3.googleusercontent.com/a-/AOh14Gjo8J3WJAvmOh7e1vtdSqLfjyuIM5UMOr_18SG-=s64",
      "userId": "15192936999926771237"
     },
     "user_tz": 240
    },
    "id": "u0gpH3Xb62dX",
    "outputId": "21463daf-4095-41e8-a745-019dec33938c"
   },
   "outputs": [
    {
     "name": "stdout",
     "output_type": "stream",
     "text": [
      "1.0\n",
      "1144\n",
      "Hypothesis Rejected\n"
     ]
    },
    {
     "data": {
      "image/png": "[encoded data removed]",
      "text/plain": [
       "<Figure size 432x288 with 1 Axes>"
      ]
     },
     "metadata": {
      "needs_background": "light",
      "tags": []
     },
     "output_type": "display_data"
    }
   ],
   "source": [
    "ks_2_sample(NC_daily_cases, MT_daily_cases)"
   ]
  },
  {
   "cell_type": "code",
   "execution_count": 22,
   "metadata": {
    "colab": {
     "base_uri": "https://localhost:8080/",
     "height": 315
    },
    "executionInfo": {
     "elapsed": 656,
     "status": "ok",
     "timestamp": 1621004352365,
     "user": {
      "displayName": "Sneh Amit Shah",
      "photoUrl": "https://lh3.googleusercontent.com/a-/AOh14Gjo8J3WJAvmOh7e1vtdSqLfjyuIM5UMOr_18SG-=s64",
      "userId": "15192936999926771237"
     },
     "user_tz": 240
    },
    "id": "wNoqm1bI632N",
    "outputId": "5c80405b-d3b2-4350-9201-47ac4fc4dd03"
   },
   "outputs": [
    {
     "name": "stdout",
     "output_type": "stream",
     "text": [
      "0.7934782608695652\n",
      "16\n",
      "Hypothesis Rejected\n"
     ]
    },
    {
     "data": {
      "image/png": "[encoded data removed]",
      "text/plain": [
       "<Figure size 432x288 with 1 Axes>"
      ]
     },
     "metadata": {
      "needs_background": "light",
      "tags": []
     },
     "output_type": "display_data"
    }
   ],
   "source": [
    "ks_2_sample(NC_daily_death, MT_daily_death)"
   ]
  },
  {
   "cell_type": "code",
   "execution_count": 23,
   "metadata": {
    "colab": {
     "base_uri": "https://localhost:8080/"
    },
    "executionInfo": {
     "elapsed": 274,
     "status": "ok",
     "timestamp": 1621004359926,
     "user": {
      "displayName": "Sneh Amit Shah",
      "photoUrl": "https://lh3.googleusercontent.com/a-/AOh14Gjo8J3WJAvmOh7e1vtdSqLfjyuIM5UMOr_18SG-=s64",
      "userId": "15192936999926771237"
     },
     "user_tz": 240
    },
    "id": "EtA5W1PN7uVX",
    "outputId": "60f92bc3-49ca-4009-a00f-237537592aa5"
   },
   "outputs": [
    {
     "name": "stdout",
     "output_type": "stream",
     "text": [
      "0\n",
      "Hypothesis rejected\n",
      "0\n",
      "Hypothesis rejected\n"
     ]
    }
   ],
   "source": [
    "# permutation test\n",
    "def permutation_test(sample_A, sample_B):\n",
    "  count = 0\n",
    "  list_1 = []\n",
    "  list_1.append(sample_A)\n",
    "  list_0 = []\n",
    "  list_0.append(sample_B)\n",
    "\n",
    "  list_1 = np.array(list_1)\n",
    "  list_0 = np.array(list_0)\n",
    "  mean_1 = np.mean(list_1)\n",
    "  mean_0 = np.mean(list_0)\n",
    "  t_obs = np.abs(mean_1-mean_0)\n",
    "  a = np.concatenate((list_1[0], list_0[0]))\n",
    "  # print(len(list_1[0]))\n",
    "  iterations=1000\n",
    "  for _ in range(iterations):\n",
    "      np.random.shuffle(a)\n",
    "      a_0 = np.abs(np.mean(a[0:len(list_1[0])]) - np.mean(a[len(list_1[0]):]))\n",
    "      if (a_0>t_obs):\n",
    "          count+=1\n",
    "  print(count)\n",
    "  if(count/iterations<=0.05):\n",
    "      print(\"Hypothesis rejected\")\n",
    "  else:\n",
    "      print(\"Hypothesis accepted\")\n",
    "\n",
    "permutation_test(NC_daily_cases, MT_daily_cases)\n",
    "permutation_test(NC_daily_death, MT_daily_death)"
   ]
  },
  {
   "cell_type": "code",
   "execution_count": null,
   "metadata": {
    "id": "wu8XqWvKGWLB"
   },
   "outputs": [],
   "source": []
  }
 ],
 "metadata": {
  "colab": {
   "collapsed_sections": [],
   "name": "2c.ipynb",
   "provenance": []
  },
  "kernelspec": {
   "display_name": "Python 3",
   "language": "python",
   "name": "python3"
  },
  "language_info": {
   "codemirror_mode": {
    "name": "ipython",
    "version": 3
   },
   "file_extension": ".py",
   "mimetype": "text/x-python",
   "name": "python",
   "nbconvert_exporter": "python",
   "pygments_lexer": "ipython3",
   "version": "3.8.5"
  }
 },
 "nbformat": 4,
 "nbformat_minor": 1
}
