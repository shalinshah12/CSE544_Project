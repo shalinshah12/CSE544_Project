{
 "cells": [
  {
   "cell_type": "code",
   "execution_count": null,
   "metadata": {
    "id": "8P_LZXwsJilV"
   },
   "outputs": [],
   "source": [
    "import pandas as pd\n",
    "import numpy as np\n",
    "import math\n",
    "from statistics import mean, median\n",
    "import matplotlib.pyplot as plt"
   ]
  },
  {
   "cell_type": "code",
   "execution_count": null,
   "metadata": {
    "colab": {
     "base_uri": "https://localhost:8080/"
    },
    "id": "xlVzmsPPJtHz",
    "outputId": "8db40421-c398-43fe-e891-864171e46696"
   },
   "outputs": [
    {
     "name": "stdout",
     "output_type": "stream",
     "text": [
      "Drive already mounted at /content/drive; to attempt to forcibly remount, call drive.mount(\"/content/drive\", force_remount=True).\n"
     ]
    }
   ],
   "source": [
    "from google.colab import drive\n",
    "drive.mount('/content/drive')"
   ]
  },
  {
   "cell_type": "code",
   "execution_count": null,
   "metadata": {
    "colab": {
     "base_uri": "https://localhost:8080/"
    },
    "id": "dGif77ZJJvkY",
    "outputId": "0b386431-801d-4b09-bc22-bb894a319093"
   },
   "outputs": [
    {
     "name": "stdout",
     "output_type": "stream",
     "text": [
      "/content/drive/.shortcut-targets-by-id/1YQyVsZWGB7sACOZzGllQA0QwFc_E5Nb1/CSE544_PROJECT\n"
     ]
    }
   ],
   "source": [
    "%cd '/content/drive/MyDrive/CSE544_PROJECT'"
   ]
  },
  {
   "cell_type": "code",
   "execution_count": null,
   "metadata": {
    "id": "6UlX9medJ3QG"
   },
   "outputs": [],
   "source": [
    "from datetime import datetime as dt\n",
    "import datetime\n",
    "\n",
    "def get_data_fuel(start, end, df_clean):\n",
    "  date = [(df_clean['Date'][i]) for i in range(0, len(df_clean['Date'])) if dt.strptime(df_clean['Date'][i], \"%Y-%m-%d\")>=start and dt.strptime(df_clean['Date'][i], \"%Y-%m-%d\")<=end]\n",
    "  price = [(df_clean['Price'][i]) for i in range(0, len(df_clean['Date'])) if dt.strptime(df_clean['Date'][i], \"%Y-%m-%d\")>=start and dt.strptime(df_clean['Date'][i], \"%Y-%m-%d\")<=end]\n",
    "  # MT_daily_death = [int(df_clean['MT daily death'][i]) for i in range(0, len(df_clean['Date'])) if dt.strptime(df_clean['Date'][i], \"%m/%d/%Y\")>=start and dt.strptime(df_clean['Date'][i], \"%m/%d/%Y\")<=end]\n",
    "  # NC_daily_death = [int(df_clean['NC daily death'][i]) for i in range(0, len(df_clean['Date'])) if dt.strptime(df_clean['Date'][i], \"%m/%d/%Y\")>=start and dt.strptime(df_clean['Date'][i], \"%m/%d/%Y\")<=end]\n",
    "  return date, price\n",
    "\n",
    "def get_data_COVID(start, end, df_clean):\n",
    "  cases = [int(df_clean['Cases'][i]) for i in range(0, len(df_clean['Date'])) if dt.strptime(df_clean['Date'][i], \"%Y-%m-%d\")>=start and dt.strptime(df_clean['Date'][i], \"%Y-%m-%d\")<=end]\n",
    "  death = [int(df_clean['Death'][i]) for i in range(0, len(df_clean['Date'])) if dt.strptime(df_clean['Date'][i], \"%Y-%m-%d\")>=start and dt.strptime(df_clean['Date'][i], \"%Y-%m-%d\")<=end]\n",
    "  # MT_daily_death = [int(df_clean['MT daily death'][i]) for i in range(0, len(df_clean['Date'])) if dt.strptime(df_clean['Date'][i], \"%m/%d/%Y\")>=start and dt.strptime(df_clean['Date'][i], \"%m/%d/%Y\")<=end]\n",
    "  # NC_daily_death = [int(df_clean['NC daily death'][i]) for i in range(0, len(df_clean['Date'])) if dt.strptime(df_clean['Date'][i], \"%m/%d/%Y\")>=start and dt.strptime(df_clean['Date'][i], \"%m/%d/%Y\")<=end]\n",
    "  return cases, death\n"
   ]
  },
  {
   "cell_type": "code",
   "execution_count": null,
   "metadata": {
    "id": "uQd3G3uCJ6kz"
   },
   "outputs": [],
   "source": [
    "# Using the pearson test to see if the datasets are linearly corelated\n",
    "\n",
    "def pearson_coeff(sample_A, sample_B):\n",
    "  # print(sample_A)\n",
    "  # print(sample_B)\n",
    "  sample_A_mean = mean(sample_A)\n",
    "  sample_B_mean = mean(sample_B)\n",
    "\n",
    "  diff_squ_A = 0\n",
    "  for x in sample_A:\n",
    "    diff_squ_A += (x-sample_A_mean)**2\n",
    "  diff_squ_B = 0\n",
    "  for x in sample_B:\n",
    "    diff_squ_B += (x-sample_B_mean)**2\n",
    "  numerator = 0\n",
    "  for i in range(len(sample_A)):\n",
    "    numerator += (sample_A[i]-sample_A_mean)*(sample_B[i]-sample_B_mean)\n",
    "  # print(numerator)\n",
    "  ro = numerator/(((diff_squ_A)*(diff_squ_B))**0.5)\n",
    "  # print(ro)\n",
    "  return ro"
   ]
  },
  {
   "cell_type": "code",
   "execution_count": null,
   "metadata": {
    "id": "RLli-f31KIFW"
   },
   "outputs": [],
   "source": [
    "# Apply chi test to check for dependence\n",
    "\n",
    "def chi_squared_test(cases, price, case_count, amount):\n",
    "  cases_less_than_100000 = 0\n",
    "  for x in cases:\n",
    "    if x<case_count:\n",
    "      cases_less_than_100000 +=1\n",
    "  # print(cases_less_than_100000)\n",
    "  cases_more_than_100000 = len(cases) - cases_less_than_100000\n",
    "  # print(cases_more_than_100000)\n",
    "\n",
    "  price_less_than_10985 = 0\n",
    "  for x in price:\n",
    "    # print(x)\n",
    "    if x<amount:\n",
    "      price_less_than_10985 +=1\n",
    "  # print(price_less_than_10985)\n",
    "  price_more_than_10985 = len(cases) - price_less_than_10985\n",
    "  # print(price_more_than_10985)\n",
    "  a = 0\n",
    "  b = 0\n",
    "  c = 0\n",
    "  d = 0\n",
    "  for i in range(len(cases)):\n",
    "    if price[i]<amount:\n",
    "      if cases[i]<case_count:\n",
    "        a += 1\n",
    "      else:\n",
    "        b += 1\n",
    "    else:\n",
    "      if cases[i]<case_count:\n",
    "        c += 1\n",
    "      else:\n",
    "        d += 1\n",
    "  # print(a, b, c, d)\n",
    "  total_observations = len(cases)\n",
    "  expected_a = cases_less_than_100000 * price_less_than_10985 / total_observations\n",
    "  expected_b = cases_more_than_100000 * price_less_than_10985 / total_observations\n",
    "  expected_c = cases_less_than_100000 * price_more_than_10985 / total_observations\n",
    "  expected_d = cases_more_than_100000 * price_more_than_10985 / total_observations\n",
    "  # print(expected_a, expected_b, expected_c, expected_d)\n",
    "  Q_obs = (((expected_a - a)**2)/expected_a)+(((expected_b - b)**2)/expected_b)+(((expected_c - c)**2)/expected_c)+(((expected_d - d)**2)/expected_d)\n",
    "  return Q_obs\n"
   ]
  },
  {
   "cell_type": "code",
   "execution_count": null,
   "metadata": {
    "id": "x4DQwO33XSYA"
   },
   "outputs": [],
   "source": [
    "# Applying the Linear Regression to see if the price can be predicted using the past 3 days covid data.\n",
    "\n",
    "def LR1(cases, price, days):\n",
    "  original = np.array(cases, copy=True)\n",
    "  price = np.array(price).reshape(len(price),1)\n",
    "  # print(len(price))\n",
    "  # print(len(original))\n",
    "  X = []\n",
    "  Y = []\n",
    "  index = days\n",
    "  \n",
    "  for day in original[days-1:7]:\n",
    "    # Y.append(day)\n",
    "    Xs = []\n",
    "    Xs.append(1)\n",
    "    for i in range(0,days):\n",
    "      Xs.append(original[index-i])\n",
    "    X.append(Xs)\n",
    "    index += 1\n",
    "  \n",
    "  for cost in price[days-1:7]:\n",
    "    Y.append(cost)\n",
    "  X = np.array(X)\n",
    "  Y = np.array(Y).reshape(len(Y),1)\n",
    "  # print(X.shape)\n",
    "  betas = np.matmul(np.matmul(np.linalg.inv(np.matmul(np.transpose(X),X)),np.transpose(X)), Y)\n",
    "  # print(betas)\n",
    "  # print(Y.shape)\n",
    "  # print(len(cases))\n",
    "  Z = np.array(Y, copy=True)\n",
    "  total = 0\n",
    "  for i in range(7,len(cases)):\n",
    "    total +=1\n",
    "    pred = betas[0][0]\n",
    "    count = 0\n",
    "    # print(betas.shape)\n",
    "    for x in range(1,days+1):\n",
    "      # print(i-count)\n",
    "      # print(betas[x][0]*cases[i-count])\n",
    "      pred += betas[x][0]*original[i-count]\n",
    "      count += 1\n",
    "    \n",
    "    Z = np.append(Z, [[pred]], axis = 0)\n",
    "  # print(total)\n",
    "  # print(Z.shape)\n",
    "  # print(price.shape)\n",
    "  price = price[days-1:]\n",
    "  # print(price.shape)\n",
    "  plt.plot(price, label = \"true\")\n",
    "  plt.plot(Z, label = \"predicted\")\n",
    "  plt.ylim((0, 2))\n",
    "  plt.xlabel(\"Day\")\n",
    "  plt.ylabel(\"Fuel Price\")\n",
    "  plt.legend(loc='center left', bbox_to_anchor=(1, 0.5))\n",
    "  return price, Z, total\n"
   ]
  },
  {
   "cell_type": "code",
   "execution_count": null,
   "metadata": {
    "colab": {
     "base_uri": "https://localhost:8080/"
    },
    "id": "QN_dzSJJMxFR",
    "outputId": "6a464ff9-a9c9-4eb8-e22f-b34c90a02c5c"
   },
   "outputs": [
    {
     "name": "stdout",
     "output_type": "stream",
     "text": [
      "-0.6302524583131404\n"
     ]
    }
   ],
   "source": [
    "df_clean1 = pd.read_csv('fuel_clean.csv')\n",
    "df_clean2 = pd.read_csv('USA_clean.csv')\n",
    "\n",
    "start = datetime.datetime(2020, 3, 4)\n",
    "end = datetime.datetime(2020, 3, 18)\n",
    "\n",
    "# Person coeffecient corelation\n",
    "\n",
    "date, price = get_data_fuel(start, end, df_clean1)\n",
    "cases, death = get_data_COVID(start, end, df_clean2)\n",
    "\n",
    "ro2 = pearson_coeff(cases, price)\n",
    "print(ro2)\n",
    "\n",
    "# The value is < -0.5\n",
    "# This shows that there is a negative linear corelation"
   ]
  },
  {
   "cell_type": "code",
   "execution_count": null,
   "metadata": {
    "colab": {
     "base_uri": "https://localhost:8080/"
    },
    "id": "qK9Kt3KdMw3_",
    "outputId": "05d1a06c-80ce-4273-a3ea-cfd83d98c0a6"
   },
   "outputs": [
    {
     "name": "stdout",
     "output_type": "stream",
     "text": [
      "11.428571428571432\n"
     ]
    }
   ],
   "source": [
    "Q_obs = chi_squared_test(cases, price, 397, 1)\n",
    "print(Q_obs)\n",
    "\n",
    "\n",
    "# P(Chi square < Qobs) = 0 < alpha             (alpha = 0.05)\n",
    "# Thus we reject the null hypothesis.\n",
    "# The cases and price are not independent. The are dependent."
   ]
  },
  {
   "cell_type": "code",
   "execution_count": null,
   "metadata": {
    "colab": {
     "base_uri": "https://localhost:8080/",
     "height": 300
    },
    "id": "LQmBXrxALLRe",
    "outputId": "9ab6c462-6d26-4647-d8ef-3dc5966b75e9"
   },
   "outputs": [
    {
     "name": "stdout",
     "output_type": "stream",
     "text": [
      "32.443863191954996\n"
     ]
    },
    {
     "data": {
      "image/png": "[encoded data removed]",
      "text/plain": [
       "<Figure size 432x288 with 1 Axes>"
      ]
     },
     "metadata": {
      "needs_background": "light",
      "tags": []
     },
     "output_type": "display_data"
    }
   ],
   "source": [
    "date, price = get_data_fuel(start, end, df_clean1)\n",
    "cases, death = get_data_COVID(start, end, df_clean2)\n",
    "\n",
    "price, Z, total = LR1(cases, price, 3)\n",
    "\n",
    "mape = np.sum(abs((price[-total:] - Z[-total:])/price[-total:]))/total * 100\n",
    "print(mape)\n",
    "\n",
    "# The MAPE error is on the lower sde considering that only 4 days are available for training. "
   ]
  },
  {
   "cell_type": "code",
   "execution_count": null,
   "metadata": {
    "id": "HLfp3AveMhiP"
   },
   "outputs": [],
   "source": []
  }
 ],
 "metadata": {
  "colab": {
   "collapsed_sections": [],
   "name": "3_inf_1.ipynb",
   "provenance": []
  },
  "kernelspec": {
   "display_name": "Python 3",
   "language": "python",
   "name": "python3"
  },
  "language_info": {
   "codemirror_mode": {
    "name": "ipython",
    "version": 3
   },
   "file_extension": ".py",
   "mimetype": "text/x-python",
   "name": "python",
   "nbconvert_exporter": "python",
   "pygments_lexer": "ipython3",
   "version": "3.8.5"
  }
 },
 "nbformat": 4,
 "nbformat_minor": 1
}
