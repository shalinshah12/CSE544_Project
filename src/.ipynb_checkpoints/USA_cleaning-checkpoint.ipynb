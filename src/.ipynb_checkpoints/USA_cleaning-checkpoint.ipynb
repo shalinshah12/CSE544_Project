{
 "cells": [
  {
   "cell_type": "code",
   "execution_count": 1,
   "metadata": {
    "executionInfo": {
     "elapsed": 335,
     "status": "ok",
     "timestamp": 1620698804714,
     "user": {
      "displayName": "Sneh Amit Shah",
      "photoUrl": "https://lh3.googleusercontent.com/a-/AOh14Gjo8J3WJAvmOh7e1vtdSqLfjyuIM5UMOr_18SG-=s64",
      "userId": "15192936999926771237"
     },
     "user_tz": 240
    },
    "id": "eJSDGg56dwSP"
   },
   "outputs": [],
   "source": [
    "import pandas as pd\n",
    "import numpy as np\n",
    "import math\n",
    "import matplotlib.pyplot as plt\n",
    "import datetime\n",
    "from datetime import datetime as dt"
   ]
  },
  {
   "cell_type": "code",
   "execution_count": 2,
   "metadata": {
    "colab": {
     "base_uri": "https://localhost:8080/"
    },
    "executionInfo": {
     "elapsed": 19628,
     "status": "ok",
     "timestamp": 1620698824790,
     "user": {
      "displayName": "Sneh Amit Shah",
      "photoUrl": "https://lh3.googleusercontent.com/a-/AOh14Gjo8J3WJAvmOh7e1vtdSqLfjyuIM5UMOr_18SG-=s64",
      "userId": "15192936999926771237"
     },
     "user_tz": 240
    },
    "id": "nVh9Ji7od2pC",
    "outputId": "b1fd4c86-5219-4ea0-ba05-2758e8ddc907"
   },
   "outputs": [
    {
     "name": "stdout",
     "output_type": "stream",
     "text": [
      "Mounted at /content/drive\n"
     ]
    }
   ],
   "source": [
    "from google.colab import drive\n",
    "drive.mount('/content/drive')"
   ]
  },
  {
   "cell_type": "code",
   "execution_count": 3,
   "metadata": {
    "colab": {
     "base_uri": "https://localhost:8080/"
    },
    "executionInfo": {
     "elapsed": 904,
     "status": "ok",
     "timestamp": 1620698827561,
     "user": {
      "displayName": "Sneh Amit Shah",
      "photoUrl": "https://lh3.googleusercontent.com/a-/AOh14Gjo8J3WJAvmOh7e1vtdSqLfjyuIM5UMOr_18SG-=s64",
      "userId": "15192936999926771237"
     },
     "user_tz": 240
    },
    "id": "3FXcuHiyd4Dt",
    "outputId": "3020b67d-e90d-4529-f210-5ce25fbb4e8d"
   },
   "outputs": [
    {
     "name": "stdout",
     "output_type": "stream",
     "text": [
      "/content/drive/.shortcut-targets-by-id/1YQyVsZWGB7sACOZzGllQA0QwFc_E5Nb1/CSE544_PROJECT\n",
      "total 972\n",
      "-rw------- 1 root root  13113 May  8 15:12  14.csv\n",
      "-rw------- 1 root root   9808 May 10 08:37 '2a EWMA.ipynb'\n",
      "-rw------- 1 root root 219146 May 10 08:38  2c.ipynb\n",
      "-rw------- 1 root root  10403 May  8 19:17  August.csv.xlsx\n",
      "-rw------- 1 root root   4319 May  8 21:23  August_Final.csv\n",
      "-rw------- 1 root root  27056 May 10 05:29  clean.csv\n",
      "-rw------- 1 root root  19894 May 10 03:40  CSE544_PROJECT.ipynb\n",
      "-rw------- 1 root root  10672 May 10 22:46  fuel_clean.csv\n",
      "-rw------- 1 root root  49009 May 10 22:47  fuel_cleaning.ipynb\n",
      "-rw------- 1 root root   5099 May 10 22:09  fuel_unclean.csv\n",
      "-rw------- 1 root root  14155 May  8 21:06  OCT_NOV_DEC.xlsx\n",
      "-rw------- 1 root root  29958 May 10 20:39  post-cleaning.ipynb\n",
      "-rw------- 1 root root  20198 May  8 15:35  sample.csv\n",
      "-rw------- 1 root root  19754 May 10 08:34  SNEH_clean.csv\n",
      "-rw------- 1 root root 153968 May 10 08:44  Sneh_trial.ipynb\n",
      "-rw------- 1 root root   3807 May  8 22:40  temp2.csv\n",
      "-rw------- 1 root root   3819 May  8 23:22  temp3.csv\n",
      "-rw------- 1 root root   3814 May 10 00:18  temp.csv\n",
      "-rw------- 1 root root  10849 May 10 23:30  USA_clean.csv\n",
      "-rw------- 1 root root 130264 May 11 02:06  USA_cleaning.ipynb\n",
      "-rw------- 1 root root 131790 May 10 22:49  US_confirmed.csv\n",
      "-rw------- 1 root root  99103 May 10 23:04  US_deaths.csv\n"
     ]
    }
   ],
   "source": [
    "%cd '/content/drive/MyDrive/CSE544_PROJECT'\n",
    "%ls -l"
   ]
  },
  {
   "cell_type": "code",
   "execution_count": 4,
   "metadata": {
    "colab": {
     "base_uri": "https://localhost:8080/",
     "height": 261
    },
    "executionInfo": {
     "elapsed": 689,
     "status": "ok",
     "timestamp": 1620698830354,
     "user": {
      "displayName": "Sneh Amit Shah",
      "photoUrl": "https://lh3.googleusercontent.com/a-/AOh14Gjo8J3WJAvmOh7e1vtdSqLfjyuIM5UMOr_18SG-=s64",
      "userId": "15192936999926771237"
     },
     "user_tz": 240
    },
    "id": "CBbNAElZd-Mi",
    "outputId": "61ff34c9-3834-4fc9-befa-cb4a98229744"
   },
   "outputs": [
    {
     "data": {
      "text/html": [
       "<div>\n",
       "<style scoped>\n",
       "    .dataframe tbody tr th:only-of-type {\n",
       "        vertical-align: middle;\n",
       "    }\n",
       "\n",
       "    .dataframe tbody tr th {\n",
       "        vertical-align: top;\n",
       "    }\n",
       "\n",
       "    .dataframe thead th {\n",
       "        text-align: right;\n",
       "    }\n",
       "</style>\n",
       "<table border=\"1\" class=\"dataframe\">\n",
       "  <thead>\n",
       "    <tr style=\"text-align: right;\">\n",
       "      <th></th>\n",
       "      <th>State</th>\n",
       "      <th>2020-01-22</th>\n",
       "      <th>2020-01-23</th>\n",
       "      <th>2020-01-24</th>\n",
       "      <th>2020-01-25</th>\n",
       "      <th>2020-01-26</th>\n",
       "      <th>2020-01-27</th>\n",
       "      <th>2020-01-28</th>\n",
       "      <th>2020-01-29</th>\n",
       "      <th>2020-01-30</th>\n",
       "      <th>2020-01-31</th>\n",
       "      <th>2020-02-01</th>\n",
       "      <th>2020-02-02</th>\n",
       "      <th>2020-02-03</th>\n",
       "      <th>2020-02-04</th>\n",
       "      <th>2020-02-05</th>\n",
       "      <th>2020-02-06</th>\n",
       "      <th>2020-02-07</th>\n",
       "      <th>2020-02-08</th>\n",
       "      <th>2020-02-09</th>\n",
       "      <th>2020-02-10</th>\n",
       "      <th>2020-02-11</th>\n",
       "      <th>2020-02-12</th>\n",
       "      <th>2020-02-13</th>\n",
       "      <th>2020-02-14</th>\n",
       "      <th>2020-02-15</th>\n",
       "      <th>2020-02-16</th>\n",
       "      <th>2020-02-17</th>\n",
       "      <th>2020-02-18</th>\n",
       "      <th>2020-02-19</th>\n",
       "      <th>2020-02-20</th>\n",
       "      <th>2020-02-21</th>\n",
       "      <th>2020-02-22</th>\n",
       "      <th>2020-02-23</th>\n",
       "      <th>2020-02-24</th>\n",
       "      <th>2020-02-25</th>\n",
       "      <th>2020-02-26</th>\n",
       "      <th>2020-02-27</th>\n",
       "      <th>2020-02-28</th>\n",
       "      <th>2020-02-29</th>\n",
       "      <th>...</th>\n",
       "      <th>2021-02-23</th>\n",
       "      <th>2021-02-24</th>\n",
       "      <th>2021-02-25</th>\n",
       "      <th>2021-02-26</th>\n",
       "      <th>2021-02-27</th>\n",
       "      <th>2021-02-28</th>\n",
       "      <th>2021-03-01</th>\n",
       "      <th>2021-03-02</th>\n",
       "      <th>2021-03-03</th>\n",
       "      <th>2021-03-04</th>\n",
       "      <th>2021-03-05</th>\n",
       "      <th>2021-03-06</th>\n",
       "      <th>2021-03-07</th>\n",
       "      <th>2021-03-08</th>\n",
       "      <th>2021-03-09</th>\n",
       "      <th>2021-03-10</th>\n",
       "      <th>2021-03-11</th>\n",
       "      <th>2021-03-12</th>\n",
       "      <th>2021-03-13</th>\n",
       "      <th>2021-03-14</th>\n",
       "      <th>2021-03-15</th>\n",
       "      <th>2021-03-16</th>\n",
       "      <th>2021-03-17</th>\n",
       "      <th>2021-03-18</th>\n",
       "      <th>2021-03-19</th>\n",
       "      <th>2021-03-20</th>\n",
       "      <th>2021-03-21</th>\n",
       "      <th>2021-03-22</th>\n",
       "      <th>2021-03-23</th>\n",
       "      <th>2021-03-24</th>\n",
       "      <th>2021-03-25</th>\n",
       "      <th>2021-03-26</th>\n",
       "      <th>2021-03-27</th>\n",
       "      <th>2021-03-28</th>\n",
       "      <th>2021-03-29</th>\n",
       "      <th>2021-03-30</th>\n",
       "      <th>2021-03-31</th>\n",
       "      <th>2021-04-01</th>\n",
       "      <th>2021-04-02</th>\n",
       "      <th>2021-04-03</th>\n",
       "    </tr>\n",
       "  </thead>\n",
       "  <tbody>\n",
       "    <tr>\n",
       "      <th>0</th>\n",
       "      <td>AK</td>\n",
       "      <td>0</td>\n",
       "      <td>0</td>\n",
       "      <td>0</td>\n",
       "      <td>0</td>\n",
       "      <td>0</td>\n",
       "      <td>0</td>\n",
       "      <td>0</td>\n",
       "      <td>0</td>\n",
       "      <td>0</td>\n",
       "      <td>0</td>\n",
       "      <td>0</td>\n",
       "      <td>0</td>\n",
       "      <td>0</td>\n",
       "      <td>0</td>\n",
       "      <td>0</td>\n",
       "      <td>0</td>\n",
       "      <td>0</td>\n",
       "      <td>0</td>\n",
       "      <td>0</td>\n",
       "      <td>0</td>\n",
       "      <td>0</td>\n",
       "      <td>0</td>\n",
       "      <td>0</td>\n",
       "      <td>0</td>\n",
       "      <td>0</td>\n",
       "      <td>0</td>\n",
       "      <td>0</td>\n",
       "      <td>0</td>\n",
       "      <td>0</td>\n",
       "      <td>0</td>\n",
       "      <td>0</td>\n",
       "      <td>0</td>\n",
       "      <td>0</td>\n",
       "      <td>0</td>\n",
       "      <td>0</td>\n",
       "      <td>0</td>\n",
       "      <td>0</td>\n",
       "      <td>0</td>\n",
       "      <td>0</td>\n",
       "      <td>...</td>\n",
       "      <td>55538</td>\n",
       "      <td>55710</td>\n",
       "      <td>55847</td>\n",
       "      <td>55947</td>\n",
       "      <td>55947</td>\n",
       "      <td>55947</td>\n",
       "      <td>56290</td>\n",
       "      <td>56409</td>\n",
       "      <td>56582</td>\n",
       "      <td>56717</td>\n",
       "      <td>56853</td>\n",
       "      <td>56853</td>\n",
       "      <td>56853</td>\n",
       "      <td>57180</td>\n",
       "      <td>57267</td>\n",
       "      <td>57410</td>\n",
       "      <td>57635</td>\n",
       "      <td>57740</td>\n",
       "      <td>57740</td>\n",
       "      <td>57740</td>\n",
       "      <td>58104</td>\n",
       "      <td>58204</td>\n",
       "      <td>58371</td>\n",
       "      <td>58520</td>\n",
       "      <td>58594</td>\n",
       "      <td>58594</td>\n",
       "      <td>58594</td>\n",
       "      <td>58934</td>\n",
       "      <td>59106</td>\n",
       "      <td>59303</td>\n",
       "      <td>59448</td>\n",
       "      <td>59627</td>\n",
       "      <td>59627</td>\n",
       "      <td>59627</td>\n",
       "      <td>59627</td>\n",
       "      <td>60248</td>\n",
       "      <td>60248</td>\n",
       "      <td>60628</td>\n",
       "      <td>60823</td>\n",
       "      <td>60823</td>\n",
       "    </tr>\n",
       "    <tr>\n",
       "      <th>1</th>\n",
       "      <td>AL</td>\n",
       "      <td>0</td>\n",
       "      <td>0</td>\n",
       "      <td>0</td>\n",
       "      <td>0</td>\n",
       "      <td>0</td>\n",
       "      <td>0</td>\n",
       "      <td>0</td>\n",
       "      <td>0</td>\n",
       "      <td>0</td>\n",
       "      <td>0</td>\n",
       "      <td>0</td>\n",
       "      <td>0</td>\n",
       "      <td>0</td>\n",
       "      <td>0</td>\n",
       "      <td>0</td>\n",
       "      <td>0</td>\n",
       "      <td>0</td>\n",
       "      <td>0</td>\n",
       "      <td>0</td>\n",
       "      <td>0</td>\n",
       "      <td>0</td>\n",
       "      <td>0</td>\n",
       "      <td>0</td>\n",
       "      <td>0</td>\n",
       "      <td>0</td>\n",
       "      <td>0</td>\n",
       "      <td>0</td>\n",
       "      <td>0</td>\n",
       "      <td>0</td>\n",
       "      <td>0</td>\n",
       "      <td>0</td>\n",
       "      <td>0</td>\n",
       "      <td>0</td>\n",
       "      <td>0</td>\n",
       "      <td>0</td>\n",
       "      <td>0</td>\n",
       "      <td>0</td>\n",
       "      <td>0</td>\n",
       "      <td>0</td>\n",
       "      <td>...</td>\n",
       "      <td>488842</td>\n",
       "      <td>490138</td>\n",
       "      <td>491116</td>\n",
       "      <td>491868</td>\n",
       "      <td>492696</td>\n",
       "      <td>493257</td>\n",
       "      <td>493770</td>\n",
       "      <td>494442</td>\n",
       "      <td>497161</td>\n",
       "      <td>498085</td>\n",
       "      <td>498898</td>\n",
       "      <td>499445</td>\n",
       "      <td>499831</td>\n",
       "      <td>500098</td>\n",
       "      <td>500623</td>\n",
       "      <td>501403</td>\n",
       "      <td>502265</td>\n",
       "      <td>502726</td>\n",
       "      <td>503311</td>\n",
       "      <td>503680</td>\n",
       "      <td>508230</td>\n",
       "      <td>508733</td>\n",
       "      <td>509493</td>\n",
       "      <td>510060</td>\n",
       "      <td>510588</td>\n",
       "      <td>511098</td>\n",
       "      <td>511463</td>\n",
       "      <td>511782</td>\n",
       "      <td>511881</td>\n",
       "      <td>512718</td>\n",
       "      <td>513161</td>\n",
       "      <td>513605</td>\n",
       "      <td>514098</td>\n",
       "      <td>514415</td>\n",
       "      <td>514642</td>\n",
       "      <td>515015</td>\n",
       "      <td>515423</td>\n",
       "      <td>515893</td>\n",
       "      <td>516309</td>\n",
       "      <td>516662</td>\n",
       "    </tr>\n",
       "    <tr>\n",
       "      <th>2</th>\n",
       "      <td>AR</td>\n",
       "      <td>0</td>\n",
       "      <td>0</td>\n",
       "      <td>0</td>\n",
       "      <td>0</td>\n",
       "      <td>0</td>\n",
       "      <td>0</td>\n",
       "      <td>0</td>\n",
       "      <td>0</td>\n",
       "      <td>0</td>\n",
       "      <td>0</td>\n",
       "      <td>0</td>\n",
       "      <td>0</td>\n",
       "      <td>0</td>\n",
       "      <td>0</td>\n",
       "      <td>0</td>\n",
       "      <td>0</td>\n",
       "      <td>0</td>\n",
       "      <td>0</td>\n",
       "      <td>0</td>\n",
       "      <td>0</td>\n",
       "      <td>0</td>\n",
       "      <td>0</td>\n",
       "      <td>0</td>\n",
       "      <td>0</td>\n",
       "      <td>0</td>\n",
       "      <td>0</td>\n",
       "      <td>0</td>\n",
       "      <td>0</td>\n",
       "      <td>0</td>\n",
       "      <td>0</td>\n",
       "      <td>0</td>\n",
       "      <td>0</td>\n",
       "      <td>0</td>\n",
       "      <td>0</td>\n",
       "      <td>0</td>\n",
       "      <td>0</td>\n",
       "      <td>0</td>\n",
       "      <td>0</td>\n",
       "      <td>0</td>\n",
       "      <td>...</td>\n",
       "      <td>316612</td>\n",
       "      <td>317410</td>\n",
       "      <td>318135</td>\n",
       "      <td>318646</td>\n",
       "      <td>319203</td>\n",
       "      <td>322511</td>\n",
       "      <td>322594</td>\n",
       "      <td>323010</td>\n",
       "      <td>323399</td>\n",
       "      <td>323791</td>\n",
       "      <td>324351</td>\n",
       "      <td>324677</td>\n",
       "      <td>324843</td>\n",
       "      <td>324974</td>\n",
       "      <td>325404</td>\n",
       "      <td>325719</td>\n",
       "      <td>326055</td>\n",
       "      <td>326513</td>\n",
       "      <td>326825</td>\n",
       "      <td>326954</td>\n",
       "      <td>327073</td>\n",
       "      <td>327467</td>\n",
       "      <td>327793</td>\n",
       "      <td>328055</td>\n",
       "      <td>328281</td>\n",
       "      <td>328555</td>\n",
       "      <td>328667</td>\n",
       "      <td>328719</td>\n",
       "      <td>328952</td>\n",
       "      <td>329178</td>\n",
       "      <td>329515</td>\n",
       "      <td>329700</td>\n",
       "      <td>329865</td>\n",
       "      <td>329934</td>\n",
       "      <td>330013</td>\n",
       "      <td>330188</td>\n",
       "      <td>330401</td>\n",
       "      <td>330611</td>\n",
       "      <td>330756</td>\n",
       "      <td>330972</td>\n",
       "    </tr>\n",
       "    <tr>\n",
       "      <th>3</th>\n",
       "      <td>AZ</td>\n",
       "      <td>0</td>\n",
       "      <td>0</td>\n",
       "      <td>0</td>\n",
       "      <td>0</td>\n",
       "      <td>1</td>\n",
       "      <td>1</td>\n",
       "      <td>1</td>\n",
       "      <td>1</td>\n",
       "      <td>1</td>\n",
       "      <td>1</td>\n",
       "      <td>1</td>\n",
       "      <td>1</td>\n",
       "      <td>1</td>\n",
       "      <td>1</td>\n",
       "      <td>1</td>\n",
       "      <td>1</td>\n",
       "      <td>1</td>\n",
       "      <td>1</td>\n",
       "      <td>1</td>\n",
       "      <td>1</td>\n",
       "      <td>1</td>\n",
       "      <td>1</td>\n",
       "      <td>1</td>\n",
       "      <td>1</td>\n",
       "      <td>1</td>\n",
       "      <td>1</td>\n",
       "      <td>1</td>\n",
       "      <td>1</td>\n",
       "      <td>1</td>\n",
       "      <td>1</td>\n",
       "      <td>1</td>\n",
       "      <td>1</td>\n",
       "      <td>1</td>\n",
       "      <td>1</td>\n",
       "      <td>1</td>\n",
       "      <td>1</td>\n",
       "      <td>1</td>\n",
       "      <td>1</td>\n",
       "      <td>1</td>\n",
       "      <td>...</td>\n",
       "      <td>811968</td>\n",
       "      <td>811968</td>\n",
       "      <td>814528</td>\n",
       "      <td>814528</td>\n",
       "      <td>816782</td>\n",
       "      <td>817821</td>\n",
       "      <td>817821</td>\n",
       "      <td>818670</td>\n",
       "      <td>819954</td>\n",
       "      <td>821109</td>\n",
       "      <td>823385</td>\n",
       "      <td>823385</td>\n",
       "      <td>827237</td>\n",
       "      <td>827802</td>\n",
       "      <td>827802</td>\n",
       "      <td>828701</td>\n",
       "      <td>830720</td>\n",
       "      <td>832090</td>\n",
       "      <td>832904</td>\n",
       "      <td>832904</td>\n",
       "      <td>833582</td>\n",
       "      <td>834073</td>\n",
       "      <td>835056</td>\n",
       "      <td>835387</td>\n",
       "      <td>835549</td>\n",
       "      <td>835549</td>\n",
       "      <td>836906</td>\n",
       "      <td>836906</td>\n",
       "      <td>837416</td>\n",
       "      <td>838016</td>\n",
       "      <td>838016</td>\n",
       "      <td>838719</td>\n",
       "      <td>839892</td>\n",
       "      <td>840492</td>\n",
       "      <td>840614</td>\n",
       "      <td>841192</td>\n",
       "      <td>841884</td>\n",
       "      <td>842273</td>\n",
       "      <td>843174</td>\n",
       "      <td>844328</td>\n",
       "    </tr>\n",
       "    <tr>\n",
       "      <th>4</th>\n",
       "      <td>CA</td>\n",
       "      <td>0</td>\n",
       "      <td>0</td>\n",
       "      <td>0</td>\n",
       "      <td>0</td>\n",
       "      <td>2</td>\n",
       "      <td>3</td>\n",
       "      <td>3</td>\n",
       "      <td>4</td>\n",
       "      <td>4</td>\n",
       "      <td>4</td>\n",
       "      <td>4</td>\n",
       "      <td>4</td>\n",
       "      <td>6</td>\n",
       "      <td>6</td>\n",
       "      <td>6</td>\n",
       "      <td>6</td>\n",
       "      <td>6</td>\n",
       "      <td>6</td>\n",
       "      <td>6</td>\n",
       "      <td>6</td>\n",
       "      <td>7</td>\n",
       "      <td>7</td>\n",
       "      <td>8</td>\n",
       "      <td>8</td>\n",
       "      <td>8</td>\n",
       "      <td>8</td>\n",
       "      <td>8</td>\n",
       "      <td>9</td>\n",
       "      <td>9</td>\n",
       "      <td>9</td>\n",
       "      <td>12</td>\n",
       "      <td>12</td>\n",
       "      <td>12</td>\n",
       "      <td>13</td>\n",
       "      <td>13</td>\n",
       "      <td>15</td>\n",
       "      <td>16</td>\n",
       "      <td>18</td>\n",
       "      <td>22</td>\n",
       "      <td>...</td>\n",
       "      <td>3450075</td>\n",
       "      <td>3455375</td>\n",
       "      <td>3460338</td>\n",
       "      <td>3465734</td>\n",
       "      <td>3470880</td>\n",
       "      <td>3475564</td>\n",
       "      <td>3509158</td>\n",
       "      <td>3512368</td>\n",
       "      <td>3515499</td>\n",
       "      <td>3518362</td>\n",
       "      <td>3521268</td>\n",
       "      <td>3523381</td>\n",
       "      <td>3525251</td>\n",
       "      <td>3528464</td>\n",
       "      <td>3531204</td>\n",
       "      <td>3533904</td>\n",
       "      <td>3536431</td>\n",
       "      <td>3538799</td>\n",
       "      <td>3540578</td>\n",
       "      <td>3542026</td>\n",
       "      <td>3544665</td>\n",
       "      <td>3546902</td>\n",
       "      <td>3549066</td>\n",
       "      <td>3550931</td>\n",
       "      <td>3552725</td>\n",
       "      <td>3553989</td>\n",
       "      <td>3555092</td>\n",
       "      <td>3557289</td>\n",
       "      <td>3559373</td>\n",
       "      <td>3561678</td>\n",
       "      <td>3563340</td>\n",
       "      <td>3564383</td>\n",
       "      <td>3564476</td>\n",
       "      <td>3564476</td>\n",
       "      <td>3564476</td>\n",
       "      <td>3564476</td>\n",
       "      <td>3564476</td>\n",
       "      <td>3570718</td>\n",
       "      <td>3573028</td>\n",
       "      <td>3577951</td>\n",
       "    </tr>\n",
       "  </tbody>\n",
       "</table>\n",
       "<p>5 rows × 439 columns</p>\n",
       "</div>"
      ],
      "text/plain": [
       "  State  2020-01-22  2020-01-23  ...  2021-04-01  2021-04-02  2021-04-03\n",
       "0    AK           0           0  ...       60628       60823       60823\n",
       "1    AL           0           0  ...      515893      516309      516662\n",
       "2    AR           0           0  ...      330611      330756      330972\n",
       "3    AZ           0           0  ...      842273      843174      844328\n",
       "4    CA           0           0  ...     3570718     3573028     3577951\n",
       "\n",
       "[5 rows x 439 columns]"
      ]
     },
     "execution_count": 4,
     "metadata": {
      "tags": []
     },
     "output_type": "execute_result"
    }
   ],
   "source": [
    "df = pd.read_csv('US_confirmed.csv')\n",
    "df.head()"
   ]
  },
  {
   "cell_type": "code",
   "execution_count": 5,
   "metadata": {
    "colab": {
     "base_uri": "https://localhost:8080/"
    },
    "executionInfo": {
     "elapsed": 228,
     "status": "ok",
     "timestamp": 1620698833141,
     "user": {
      "displayName": "Sneh Amit Shah",
      "photoUrl": "https://lh3.googleusercontent.com/a-/AOh14Gjo8J3WJAvmOh7e1vtdSqLfjyuIM5UMOr_18SG-=s64",
      "userId": "15192936999926771237"
     },
     "user_tz": 240
    },
    "id": "cavZhX4ueNl3",
    "outputId": "97fd0e0f-b6fd-4ac6-a4a6-a21072622abf"
   },
   "outputs": [
    {
     "name": "stdout",
     "output_type": "stream",
     "text": [
      "438\n"
     ]
    }
   ],
   "source": [
    "# Add data of all states to get total US cases\n",
    "\n",
    "data = df.values\n",
    "data = np.sum(data, axis=0)\n",
    "data = data[1:]\n",
    "print(len(data))"
   ]
  },
  {
   "cell_type": "code",
   "execution_count": 6,
   "metadata": {
    "colab": {
     "base_uri": "https://localhost:8080/",
     "height": 265
    },
    "executionInfo": {
     "elapsed": 607,
     "status": "ok",
     "timestamp": 1620698836496,
     "user": {
      "displayName": "Sneh Amit Shah",
      "photoUrl": "https://lh3.googleusercontent.com/a-/AOh14Gjo8J3WJAvmOh7e1vtdSqLfjyuIM5UMOr_18SG-=s64",
      "userId": "15192936999926771237"
     },
     "user_tz": 240
    },
    "id": "T090YYR7eqZd",
    "outputId": "613b5163-53b6-4bea-b338-32e5fa87e7d3"
   },
   "outputs": [
    {
     "data": {
      "image/png": "[encoded data removed]",
      "text/plain": [
       "<Figure size 432x288 with 1 Axes>"
      ]
     },
     "metadata": {
      "needs_background": "light",
      "tags": []
     },
     "output_type": "display_data"
    }
   ],
   "source": [
    "# Find daily cases\n",
    "\n",
    "data_daily = np.zeros(len(data))\n",
    "data_daily[0] = data[0]\n",
    "for x in range(1, len(data)):\n",
    "  data_daily[x] = data[x] - data[x-1]\n",
    "plt.plot(data_daily)\n",
    "# print(len(data_daily))\n",
    "cases = data_daily"
   ]
  },
  {
   "cell_type": "code",
   "execution_count": 7,
   "metadata": {
    "colab": {
     "base_uri": "https://localhost:8080/"
    },
    "executionInfo": {
     "elapsed": 237,
     "status": "ok",
     "timestamp": 1620698853844,
     "user": {
      "displayName": "Sneh Amit Shah",
      "photoUrl": "https://lh3.googleusercontent.com/a-/AOh14Gjo8J3WJAvmOh7e1vtdSqLfjyuIM5UMOr_18SG-=s64",
      "userId": "15192936999926771237"
     },
     "user_tz": 240
    },
    "id": "TE3_5bTBe_ca",
    "outputId": "39856210-8c10-4560-debe-4f75d1e8f65d"
   },
   "outputs": [
    {
     "name": "stdout",
     "output_type": "stream",
     "text": [
      "438\n"
     ]
    }
   ],
   "source": [
    "# Create a list of dates\n",
    "\n",
    "start_date = datetime.datetime(2020, 1, 22)\n",
    "end_date = datetime.datetime(2021, 4, 3)\n",
    "delta = datetime.timedelta(days=1)\n",
    "date = []\n",
    "\n",
    "while start_date<=end_date:\n",
    "  date.append(start_date)\n",
    "  start_date += delta\n",
    "\n",
    "print(len(date))"
   ]
  },
  {
   "cell_type": "code",
   "execution_count": 8,
   "metadata": {
    "colab": {
     "base_uri": "https://localhost:8080/",
     "height": 282
    },
    "executionInfo": {
     "elapsed": 726,
     "status": "ok",
     "timestamp": 1620698866798,
     "user": {
      "displayName": "Sneh Amit Shah",
      "photoUrl": "https://lh3.googleusercontent.com/a-/AOh14Gjo8J3WJAvmOh7e1vtdSqLfjyuIM5UMOr_18SG-=s64",
      "userId": "15192936999926771237"
     },
     "user_tz": 240
    },
    "id": "nExbZMNlhHbD",
    "outputId": "a1f707e2-d1c5-40dd-9f70-863937e82935"
   },
   "outputs": [
    {
     "name": "stdout",
     "output_type": "stream",
     "text": [
      "438\n"
     ]
    },
    {
     "data": {
      "image/png": "[encoded data removed]",
      "text/plain": [
       "<Figure size 432x288 with 1 Axes>"
      ]
     },
     "metadata": {
      "needs_background": "light",
      "tags": []
     },
     "output_type": "display_data"
    }
   ],
   "source": [
    "# Follow the same procedure for deaths\n",
    "\n",
    "df = pd.read_csv('US_deaths.csv')\n",
    "df.head()\n",
    "\n",
    "# Add data of all states to get total US deaths\n",
    "data = df.values\n",
    "data = np.sum(data, axis=0)\n",
    "data = data[1:]\n",
    "print(len(data))\n",
    "\n",
    "# Find daily deaths\n",
    "data_daily = np.zeros(len(data))\n",
    "data_daily[0] = data[0]\n",
    "for x in range(1, len(data)):\n",
    "  data_daily[x] = data[x] - data[x-1]\n",
    "plt.plot(data_daily)\n",
    "# print(len(data_daily))\n",
    "death = data_daily"
   ]
  },
  {
   "cell_type": "code",
   "execution_count": 9,
   "metadata": {
    "executionInfo": {
     "elapsed": 234,
     "status": "ok",
     "timestamp": 1620698873090,
     "user": {
      "displayName": "Sneh Amit Shah",
      "photoUrl": "https://lh3.googleusercontent.com/a-/AOh14Gjo8J3WJAvmOh7e1vtdSqLfjyuIM5UMOr_18SG-=s64",
      "userId": "15192936999926771237"
     },
     "user_tz": 240
    },
    "id": "AcssWSdNiWeH"
   },
   "outputs": [],
   "source": [
    "# apply tukeys rule for removing outliers\n",
    "\n",
    "import statistics\n",
    "\n",
    "def tukey(price_list):\n",
    "  month_price_list = []\n",
    "  # lst1 = price_list[i:i+30] for i in range(0,len(df)-30+1,30)]\n",
    "  for i in range(0,len(price_list)-30+1,30):\n",
    "    month_price_list.append(price_list[i:i+30])\n",
    "  month_price_list.append(price_list[420:])\n",
    "  price_list_tukey = []\n",
    "  for month in month_price_list:\n",
    "    median = statistics.median(month)\n",
    "    month_sorted = np.sort(month)\n",
    "    q25 = month_sorted[math.ceil((25/100)*len(month))-1]\n",
    "    q75 = month_sorted[math.ceil((75/100)*len(month))-1]\n",
    "    iqr = q75 - q25\n",
    "    cut_off = iqr * 1.5\n",
    "    lower, upper = q25 - cut_off, q75 + cut_off\n",
    "    numchanges = 0\n",
    "    for i, x in enumerate(month):\n",
    "        if x < lower or x > upper:\n",
    "            month[i] = median\n",
    "            numchanges += 1\n",
    "    print(\"outliers = \", numchanges)\n",
    "    price_list_tukey.extend(month)\n",
    "    # plt.plot(price_list_tukey)\n",
    "  return price_list_tukey\n",
    "\n"
   ]
  },
  {
   "cell_type": "code",
   "execution_count": 10,
   "metadata": {
    "colab": {
     "base_uri": "https://localhost:8080/",
     "height": 536
    },
    "executionInfo": {
     "elapsed": 724,
     "status": "ok",
     "timestamp": 1620698875878,
     "user": {
      "displayName": "Sneh Amit Shah",
      "photoUrl": "https://lh3.googleusercontent.com/a-/AOh14Gjo8J3WJAvmOh7e1vtdSqLfjyuIM5UMOr_18SG-=s64",
      "userId": "15192936999926771237"
     },
     "user_tz": 240
    },
    "id": "lRkxvCBuls8z",
    "outputId": "5e26d260-c8e1-4a1a-dc44-03a4fb322fcf"
   },
   "outputs": [
    {
     "name": "stdout",
     "output_type": "stream",
     "text": [
      "outliers =  1\n",
      "outliers =  4\n",
      "outliers =  0\n",
      "outliers =  1\n",
      "outliers =  0\n",
      "outliers =  0\n",
      "outliers =  1\n",
      "outliers =  0\n",
      "outliers =  0\n",
      "outliers =  0\n",
      "outliers =  1\n",
      "outliers =  2\n",
      "outliers =  0\n",
      "outliers =  0\n",
      "outliers =  1\n"
     ]
    },
    {
     "data": {
      "text/plain": [
       "[<matplotlib.lines.Line2D at 0x7f4f21266290>]"
      ]
     },
     "execution_count": 10,
     "metadata": {
      "tags": []
     },
     "output_type": "execute_result"
    },
    {
     "data": {
      "image/png": "[encoded data removed]",
      "text/plain": [
       "<Figure size 432x288 with 1 Axes>"
      ]
     },
     "metadata": {
      "needs_background": "light",
      "tags": []
     },
     "output_type": "display_data"
    }
   ],
   "source": [
    "cases = tukey(cases)\n",
    "plt.plot(cases)"
   ]
  },
  {
   "cell_type": "code",
   "execution_count": 11,
   "metadata": {
    "colab": {
     "base_uri": "https://localhost:8080/",
     "height": 534
    },
    "executionInfo": {
     "elapsed": 519,
     "status": "ok",
     "timestamp": 1620698881142,
     "user": {
      "displayName": "Sneh Amit Shah",
      "photoUrl": "https://lh3.googleusercontent.com/a-/AOh14Gjo8J3WJAvmOh7e1vtdSqLfjyuIM5UMOr_18SG-=s64",
      "userId": "15192936999926771237"
     },
     "user_tz": 240
    },
    "id": "4Ux1kHRel58N",
    "outputId": "b1077df3-fe69-4c67-c6d0-b503d404a3fb"
   },
   "outputs": [
    {
     "name": "stdout",
     "output_type": "stream",
     "text": [
      "outliers =  2\n",
      "outliers =  6\n",
      "outliers =  0\n",
      "outliers =  0\n",
      "outliers =  0\n",
      "outliers =  1\n",
      "outliers =  0\n",
      "outliers =  0\n",
      "outliers =  0\n",
      "outliers =  0\n",
      "outliers =  0\n",
      "outliers =  0\n",
      "outliers =  0\n",
      "outliers =  0\n",
      "outliers =  0\n"
     ]
    },
    {
     "data": {
      "text/plain": [
       "[<matplotlib.lines.Line2D at 0x7f4f21191b10>]"
      ]
     },
     "execution_count": 11,
     "metadata": {
      "tags": []
     },
     "output_type": "execute_result"
    },
    {
     "data": {
      "image/png": "[encoded data removed]",
      "text/plain": [
       "<Figure size 432x288 with 1 Axes>"
      ]
     },
     "metadata": {
      "needs_background": "light",
      "tags": []
     },
     "output_type": "display_data"
    }
   ],
   "source": [
    "death = tukey(death)\n",
    "plt.plot(death)"
   ]
  },
  {
   "cell_type": "code",
   "execution_count": 43,
   "metadata": {
    "executionInfo": {
     "elapsed": 305,
     "status": "ok",
     "timestamp": 1620689447763,
     "user": {
      "displayName": "Sneh Amit Shah",
      "photoUrl": "https://lh3.googleusercontent.com/a-/AOh14Gjo8J3WJAvmOh7e1vtdSqLfjyuIM5UMOr_18SG-=s64",
      "userId": "15192936999926771237"
     },
     "user_tz": 240
    },
    "id": "pc9FeVCyl_UM"
   },
   "outputs": [],
   "source": [
    "dict = {'Date': date, 'Cases': [int(i) for i in cases], 'Death': [int(i) for i in death]}         \n",
    "df1 = pd.DataFrame(dict) "
   ]
  },
  {
   "cell_type": "code",
   "execution_count": 44,
   "metadata": {
    "executionInfo": {
     "elapsed": 241,
     "status": "ok",
     "timestamp": 1620689450711,
     "user": {
      "displayName": "Sneh Amit Shah",
      "photoUrl": "https://lh3.googleusercontent.com/a-/AOh14Gjo8J3WJAvmOh7e1vtdSqLfjyuIM5UMOr_18SG-=s64",
      "userId": "15192936999926771237"
     },
     "user_tz": 240
    },
    "id": "0LWcow4Dm0C1"
   },
   "outputs": [],
   "source": [
    "df1.to_csv('USA_clean.csv')"
   ]
  },
  {
   "cell_type": "code",
   "execution_count": 45,
   "metadata": {
    "executionInfo": {
     "elapsed": 537,
     "status": "ok",
     "timestamp": 1620702946200,
     "user": {
      "displayName": "Sneh Amit Shah",
      "photoUrl": "https://lh3.googleusercontent.com/a-/AOh14Gjo8J3WJAvmOh7e1vtdSqLfjyuIM5UMOr_18SG-=s64",
      "userId": "15192936999926771237"
     },
     "user_tz": 240
    },
    "id": "0iqtxQMLm4xR"
   },
   "outputs": [],
   "source": [
    "start = datetime.datetime(2020, 8, 10)\n",
    "end = datetime.datetime(2020, 12, 31)\n",
    "df_clean = pd.read_csv('USA_clean.csv')\n",
    "\n",
    "def get_data(start, end, df_clean):\n",
    "  cases = [int(df_clean['Cases'][i]) for i in range(0, len(df_clean['Date'])) if dt.strptime(df_clean['Date'][i], \"%Y-%m-%d\")>=start and dt.strptime(df_clean['Date'][i], \"%Y-%m-%d\")<=end]\n",
    "  death = [int(df_clean['Death'][i]) for i in range(0, len(df_clean['Date'])) if dt.strptime(df_clean['Date'][i], \"%Y-%m-%d\")>=start and dt.strptime(df_clean['Date'][i], \"%Y-%m-%d\")<=end]\n",
    "  # MT_daily_death = [int(df_clean['MT daily death'][i]) for i in range(0, len(df_clean['Date'])) if dt.strptime(df_clean['Date'][i], \"%m/%d/%Y\")>=start and dt.strptime(df_clean['Date'][i], \"%m/%d/%Y\")<=end]\n",
    "  # NC_daily_death = [int(df_clean['NC daily death'][i]) for i in range(0, len(df_clean['Date'])) if dt.strptime(df_clean['Date'][i], \"%m/%d/%Y\")>=start and dt.strptime(df_clean['Date'][i], \"%m/%d/%Y\")<=end]\n",
    "  return cases, death\n",
    "\n",
    "cases, death = get_data(start, end, df_clean)"
   ]
  },
  {
   "cell_type": "code",
   "execution_count": 50,
   "metadata": {
    "colab": {
     "base_uri": "https://localhost:8080/",
     "height": 265
    },
    "executionInfo": {
     "elapsed": 636,
     "status": "ok",
     "timestamp": 1620703066536,
     "user": {
      "displayName": "Sneh Amit Shah",
      "photoUrl": "https://lh3.googleusercontent.com/a-/AOh14Gjo8J3WJAvmOh7e1vtdSqLfjyuIM5UMOr_18SG-=s64",
      "userId": "15192936999926771237"
     },
     "user_tz": 240
    },
    "id": "_t67twEEResB",
    "outputId": "3c3c0ccf-6ed0-4b0d-86b5-ede204d68237"
   },
   "outputs": [
    {
     "data": {
      "image/png": "[encoded data removed]",
      "text/plain": [
       "<Figure size 432x288 with 1 Axes>"
      ]
     },
     "metadata": {
      "needs_background": "light",
      "tags": []
     },
     "output_type": "display_data"
    }
   ],
   "source": [
    "plt.plot(cases)\n",
    "y1 = []\n",
    "total=0\n",
    "for x in cases:\n",
    "  total += x\n",
    "  y1.append(total)\n",
    "# y1 = [y1[i]/total for i in range(len(y1))]\n",
    "# print(y1[])\n",
    "# plt.plot(y1)"
   ]
  },
  {
   "cell_type": "code",
   "execution_count": 46,
   "metadata": {
    "colab": {
     "base_uri": "https://localhost:8080/",
     "height": 282
    },
    "executionInfo": {
     "elapsed": 6709,
     "status": "ok",
     "timestamp": 1620702955225,
     "user": {
      "displayName": "Sneh Amit Shah",
      "photoUrl": "https://lh3.googleusercontent.com/a-/AOh14Gjo8J3WJAvmOh7e1vtdSqLfjyuIM5UMOr_18SG-=s64",
      "userId": "15192936999926771237"
     },
     "user_tz": 240
    },
    "id": "UCAw0jshR5Wo",
    "outputId": "8bee4c0c-b267-4a79-86ee-d3d3815877ba"
   },
   "outputs": [
    {
     "data": {
      "text/plain": [
       "[<matplotlib.lines.Line2D at 0x7f4f1c408890>]"
      ]
     },
     "execution_count": 46,
     "metadata": {
      "tags": []
     },
     "output_type": "execute_result"
    },
    {
     "data": {
      "image/png": "[encoded data removed]",
      "text/plain": [
       "<Figure size 432x288 with 1 Axes>"
      ]
     },
     "metadata": {
      "needs_background": "light",
      "tags": []
     },
     "output_type": "display_data"
    }
   ],
   "source": [
    "ecdf = np.ones(max(cases))\n",
    "for x in range(max(cases)):\n",
    "  ecdf[x] = np.searchsorted(cases,x,side='right')/len(cases)\n",
    "plt.plot(ecdf)"
   ]
  },
  {
   "cell_type": "code",
   "execution_count": null,
   "metadata": {
    "id": "ypwA5UwbR7gD"
   },
   "outputs": [],
   "source": []
  }
 ],
 "metadata": {
  "colab": {
   "authorship_tag": "ABX9TyP6hPtqeLIqmvV1chCtA9xw",
   "name": "USA_cleaning.ipynb",
   "provenance": []
  },
  "kernelspec": {
   "display_name": "Python 3",
   "language": "python",
   "name": "python3"
  },
  "language_info": {
   "codemirror_mode": {
    "name": "ipython",
    "version": 3
   },
   "file_extension": ".py",
   "mimetype": "text/x-python",
   "name": "python",
   "nbconvert_exporter": "python",
   "pygments_lexer": "ipython3",
   "version": "3.8.5"
  }
 },
 "nbformat": 4,
 "nbformat_minor": 1
}
