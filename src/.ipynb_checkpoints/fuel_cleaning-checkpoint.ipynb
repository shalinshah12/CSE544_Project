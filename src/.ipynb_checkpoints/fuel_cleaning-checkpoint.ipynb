{
 "cells": [
  {
   "cell_type": "code",
   "execution_count": null,
   "metadata": {
    "id": "vI3ueRubO_VC"
   },
   "outputs": [],
   "source": [
    "import pandas as pd\n",
    "import numpy as np\n",
    "import math\n",
    "import matplotlib.pyplot as plt\n",
    "import datetime\n",
    "from datetime import datetime as dt"
   ]
  },
  {
   "cell_type": "code",
   "execution_count": null,
   "metadata": {
    "colab": {
     "base_uri": "https://localhost:8080/"
    },
    "id": "pxadl_x4PIRB",
    "outputId": "c24501da-deb6-4bc7-af22-5207e5817ef8"
   },
   "outputs": [
    {
     "name": "stdout",
     "output_type": "stream",
     "text": [
      "Mounted at /content/drive\n"
     ]
    }
   ],
   "source": [
    "from google.colab import drive\n",
    "drive.mount('/content/drive')"
   ]
  },
  {
   "cell_type": "code",
   "execution_count": null,
   "metadata": {
    "colab": {
     "base_uri": "https://localhost:8080/"
    },
    "id": "aPehYxGGPKQk",
    "outputId": "99acee2b-16c6-4795-bb63-003e20de27e7"
   },
   "outputs": [
    {
     "name": "stdout",
     "output_type": "stream",
     "text": [
      "/content/drive/.shortcut-targets-by-id/1YQyVsZWGB7sACOZzGllQA0QwFc_E5Nb1/CSE544_PROJECT\n",
      "total 1007\n",
      "-rw------- 1 root root  13113 May  8 15:12  14.csv\n",
      "-rw------- 1 root root   9808 May 10 08:37 '2a EWMA.ipynb'\n",
      "-rw------- 1 root root 218894 May 11 02:37  2c.ipynb\n",
      "-rw------- 1 root root  10403 May  8 19:17  August.csv.xlsx\n",
      "-rw------- 1 root root   4319 May  8 21:23  August_Final.csv\n",
      "-rw------- 1 root root  27056 May 10 05:29  clean.csv\n",
      "-rw------- 1 root root  19894 May 10 03:40  CSE544_PROJECT.ipynb\n",
      "-rw------- 1 root root  10672 May 10 22:46  fuel_clean.csv\n",
      "-rw------- 1 root root  49328 May 11 03:19  fuel_cleaning.ipynb\n",
      "-rw------- 1 root root   5099 May 10 22:09  fuel_unclean.csv\n",
      "-rw------- 1 root root  14155 May  8 21:06  OCT_NOV_DEC.xlsx\n",
      "-rw------- 1 root root  29958 May 10 20:39  post-cleaning.ipynb\n",
      "-rw------- 1 root root  20198 May  8 15:35  sample.csv\n",
      "-rw------- 1 root root  19754 May 10 08:34  SNEH_clean.csv\n",
      "-rw------- 1 root root 153968 May 10 08:44  Sneh_trial.ipynb\n",
      "-rw------- 1 root root   3807 May  8 22:40  temp2.csv\n",
      "-rw------- 1 root root   3819 May  8 23:22  temp3.csv\n",
      "-rw------- 1 root root   3814 May 10 00:18  temp.csv\n",
      "-rw------- 1 root root  10849 May 10 23:30  USA_clean.csv\n",
      "-rw------- 1 root root 166320 May 11 03:18  USA_cleaning.ipynb\n",
      "-rw------- 1 root root 131790 May 10 22:49  US_confirmed.csv\n",
      "-rw------- 1 root root  99103 May 10 23:04  US_deaths.csv\n"
     ]
    }
   ],
   "source": [
    "%cd '/content/drive/MyDrive/CSE544_PROJECT'\n",
    "%ls -l"
   ]
  },
  {
   "cell_type": "code",
   "execution_count": null,
   "metadata": {
    "colab": {
     "base_uri": "https://localhost:8080/",
     "height": 195
    },
    "id": "RcbltPofPQD0",
    "outputId": "eacc3f32-f79d-4502-ec75-d94a7d15ebf7"
   },
   "outputs": [
    {
     "data": {
      "text/html": [
       "<div>\n",
       "<style scoped>\n",
       "    .dataframe tbody tr th:only-of-type {\n",
       "        vertical-align: middle;\n",
       "    }\n",
       "\n",
       "    .dataframe tbody tr th {\n",
       "        vertical-align: top;\n",
       "    }\n",
       "\n",
       "    .dataframe thead th {\n",
       "        text-align: right;\n",
       "    }\n",
       "</style>\n",
       "<table border=\"1\" class=\"dataframe\">\n",
       "  <thead>\n",
       "    <tr style=\"text-align: right;\">\n",
       "      <th></th>\n",
       "      <th>Date</th>\n",
       "      <th>Jet Fuel Spot Price</th>\n",
       "    </tr>\n",
       "  </thead>\n",
       "  <tbody>\n",
       "    <tr>\n",
       "      <th>0</th>\n",
       "      <td>1/22/2020</td>\n",
       "      <td>1.711</td>\n",
       "    </tr>\n",
       "    <tr>\n",
       "      <th>1</th>\n",
       "      <td>1/23/2020</td>\n",
       "      <td>1.702</td>\n",
       "    </tr>\n",
       "    <tr>\n",
       "      <th>2</th>\n",
       "      <td>1/24/2020</td>\n",
       "      <td>1.665</td>\n",
       "    </tr>\n",
       "    <tr>\n",
       "      <th>3</th>\n",
       "      <td>1/27/2020</td>\n",
       "      <td>1.598</td>\n",
       "    </tr>\n",
       "    <tr>\n",
       "      <th>4</th>\n",
       "      <td>1/28/2020</td>\n",
       "      <td>1.641</td>\n",
       "    </tr>\n",
       "  </tbody>\n",
       "</table>\n",
       "</div>"
      ],
      "text/plain": [
       "        Date  Jet Fuel Spot Price\n",
       "0  1/22/2020                1.711\n",
       "1  1/23/2020                1.702\n",
       "2  1/24/2020                1.665\n",
       "3  1/27/2020                1.598\n",
       "4  1/28/2020                1.641"
      ]
     },
     "execution_count": 5,
     "metadata": {
      "tags": []
     },
     "output_type": "execute_result"
    }
   ],
   "source": [
    "df = pd.read_csv('fuel_unclean.csv')\n",
    "df.head()"
   ]
  },
  {
   "cell_type": "code",
   "execution_count": null,
   "metadata": {
    "colab": {
     "base_uri": "https://localhost:8080/"
    },
    "id": "1q44X-6sPVSj",
    "outputId": "60f6fcbf-fa17-4f83-dd69-eb6490512b4e"
   },
   "outputs": [
    {
     "name": "stdout",
     "output_type": "stream",
     "text": [
      "438\n",
      "438\n"
     ]
    }
   ],
   "source": [
    "# filling in the missing values for the price with the median from a 10 day window around the missing day\n",
    "\n",
    "date = np.array(df['Date'])\n",
    "price = np.array(df['Jet Fuel Spot Price'])\n",
    "price_list = price.tolist()\n",
    "\n",
    "# plt.plot(price)\n",
    "\n",
    "start_date = datetime.datetime(2020, 1, 22)\n",
    "end_date = datetime.datetime(2021, 4, 3)\n",
    "delta = datetime.timedelta(days=1)\n",
    "\n",
    "date_formatted = []\n",
    "for x in date:\n",
    "  date_format = dt.strptime(x, \"%m/%d/%Y\")\n",
    "  date_formatted.append(date_format)\n",
    "\n",
    "  \n",
    "\n",
    "  # np.insert(date_formatted, dt.strptime(date, \"%M/%d/%Y\"))\n",
    "\n",
    "while start_date <= end_date:\n",
    "    if start_date not in date_formatted:\n",
    "      index = np.searchsorted(date_formatted, start_date, side='right')\n",
    "      # np.insert(date, index, start_date)\n",
    "      date_formatted.insert(index, start_date)\n",
    "      median = np.median(price_list[index-2:index+2])\n",
    "      price_list.insert(index, median)\n",
    "    start_date += delta\n",
    "  \n",
    "price_list.pop()\n",
    "date_formatted.pop()\n",
    "print(len(date_formatted))\n",
    "print(len(price_list))"
   ]
  },
  {
   "cell_type": "code",
   "execution_count": null,
   "metadata": {
    "colab": {
     "base_uri": "https://localhost:8080/",
     "height": 282
    },
    "id": "z1uI43qBPZ9W",
    "outputId": "ca362028-c03d-4005-b3c3-3ce07ed2c837"
   },
   "outputs": [
    {
     "data": {
      "text/plain": [
       "[<matplotlib.lines.Line2D at 0x7f1932522050>]"
      ]
     },
     "execution_count": 73,
     "metadata": {
      "tags": []
     },
     "output_type": "execute_result"
    },
    {
     "data": {
      "image/png": "[encoded data removed]",
      "text/plain": [
       "<Figure size 432x288 with 1 Axes>"
      ]
     },
     "metadata": {
      "needs_background": "light",
      "tags": []
     },
     "output_type": "display_data"
    }
   ],
   "source": [
    "plt.plot(price_list)"
   ]
  },
  {
   "cell_type": "code",
   "execution_count": null,
   "metadata": {
    "colab": {
     "base_uri": "https://localhost:8080/",
     "height": 534
    },
    "id": "pGYPQUMiQSHW",
    "outputId": "af8ed38e-ba60-4816-9b7f-56acc81e6e77"
   },
   "outputs": [
    {
     "name": "stdout",
     "output_type": "stream",
     "text": [
      "outliers =  0\n",
      "outliers =  0\n",
      "outliers =  0\n",
      "outliers =  0\n",
      "outliers =  0\n",
      "outliers =  0\n",
      "outliers =  0\n",
      "outliers =  0\n",
      "outliers =  0\n",
      "outliers =  0\n",
      "outliers =  2\n",
      "outliers =  0\n",
      "outliers =  0\n",
      "outliers =  0\n",
      "outliers =  1\n"
     ]
    },
    {
     "data": {
      "text/plain": [
       "[<matplotlib.lines.Line2D at 0x7f19326ac610>]"
      ]
     },
     "execution_count": 74,
     "metadata": {
      "tags": []
     },
     "output_type": "execute_result"
    },
    {
     "data": {
      "image/png": "[encoded data removed]",
      "text/plain": [
       "<Figure size 432x288 with 1 Axes>"
      ]
     },
     "metadata": {
      "needs_background": "light",
      "tags": []
     },
     "output_type": "display_data"
    }
   ],
   "source": [
    "# apply tukeys rule for removing outliers\n",
    "\n",
    "import statistics\n",
    "\n",
    "def tukey(price_list):\n",
    "  month_price_list = []\n",
    "  # lst1 = price_list[i:i+30] for i in range(0,len(df)-30+1,30)]\n",
    "  for i in range(0,len(price_list)-30+1,30):\n",
    "    month_price_list.append(price_list[i:i+30])\n",
    "  month_price_list.append(price_list[420:])\n",
    "  price_list_tukey = []\n",
    "  for month in month_price_list:\n",
    "    median = statistics.median(month)\n",
    "    month_sorted = np.sort(month)\n",
    "    q25 = month_sorted[math.ceil((25/100)*len(month))-1]\n",
    "    q75 = month_sorted[math.ceil((75/100)*len(month))-1]\n",
    "    iqr = q75 - q25\n",
    "    cut_off = iqr * 1.5\n",
    "    lower, upper = q25 - cut_off, q75 + cut_off\n",
    "    numchanges = 0\n",
    "    for i, x in enumerate(month):\n",
    "        if x < lower or x > upper:\n",
    "            month[i] = median\n",
    "            numchanges += 1\n",
    "    print(\"outliers = \", numchanges)\n",
    "    price_list_tukey.extend(month)\n",
    "    # plt.plot(price_list_tukey)\n",
    "  return price_list_tukey\n",
    "\n",
    "\n",
    "price_list = tukey(price_list)\n",
    "plt.plot(price_list)"
   ]
  },
  {
   "cell_type": "code",
   "execution_count": null,
   "metadata": {
    "id": "T7Z-N_MvZgsk"
   },
   "outputs": [],
   "source": [
    "dict = {'Date': date_formatted, 'Price': price_list}         \n",
    "df1 = pd.DataFrame(dict) "
   ]
  },
  {
   "cell_type": "code",
   "execution_count": null,
   "metadata": {
    "id": "Rj6ELiQuc9rA"
   },
   "outputs": [],
   "source": [
    "df1.to_csv('fuel_clean.csv')"
   ]
  },
  {
   "cell_type": "code",
   "execution_count": null,
   "metadata": {
    "colab": {
     "base_uri": "https://localhost:8080/",
     "height": 195
    },
    "id": "iIKb5fVDde8x",
    "outputId": "c5cfa5f1-c19a-4061-ac26-f3b9d0ee2dae"
   },
   "outputs": [
    {
     "data": {
      "text/html": [
       "<div>\n",
       "<style scoped>\n",
       "    .dataframe tbody tr th:only-of-type {\n",
       "        vertical-align: middle;\n",
       "    }\n",
       "\n",
       "    .dataframe tbody tr th {\n",
       "        vertical-align: top;\n",
       "    }\n",
       "\n",
       "    .dataframe thead th {\n",
       "        text-align: right;\n",
       "    }\n",
       "</style>\n",
       "<table border=\"1\" class=\"dataframe\">\n",
       "  <thead>\n",
       "    <tr style=\"text-align: right;\">\n",
       "      <th></th>\n",
       "      <th>Unnamed: 0</th>\n",
       "      <th>Date</th>\n",
       "      <th>Price</th>\n",
       "    </tr>\n",
       "  </thead>\n",
       "  <tbody>\n",
       "    <tr>\n",
       "      <th>0</th>\n",
       "      <td>0</td>\n",
       "      <td>2020-01-22</td>\n",
       "      <td>1.711</td>\n",
       "    </tr>\n",
       "    <tr>\n",
       "      <th>1</th>\n",
       "      <td>1</td>\n",
       "      <td>2020-01-23</td>\n",
       "      <td>1.702</td>\n",
       "    </tr>\n",
       "    <tr>\n",
       "      <th>2</th>\n",
       "      <td>2</td>\n",
       "      <td>2020-01-24</td>\n",
       "      <td>1.665</td>\n",
       "    </tr>\n",
       "    <tr>\n",
       "      <th>3</th>\n",
       "      <td>3</td>\n",
       "      <td>2020-01-25</td>\n",
       "      <td>1.653</td>\n",
       "    </tr>\n",
       "    <tr>\n",
       "      <th>4</th>\n",
       "      <td>4</td>\n",
       "      <td>2020-01-26</td>\n",
       "      <td>1.647</td>\n",
       "    </tr>\n",
       "  </tbody>\n",
       "</table>\n",
       "</div>"
      ],
      "text/plain": [
       "   Unnamed: 0        Date  Price\n",
       "0           0  2020-01-22  1.711\n",
       "1           1  2020-01-23  1.702\n",
       "2           2  2020-01-24  1.665\n",
       "3           3  2020-01-25  1.653\n",
       "4           4  2020-01-26  1.647"
      ]
     },
     "execution_count": 6,
     "metadata": {
      "tags": []
     },
     "output_type": "execute_result"
    }
   ],
   "source": [
    "df = pd.read_csv('fuel_clean.csv')\n",
    "df.head()"
   ]
  },
  {
   "cell_type": "code",
   "execution_count": null,
   "metadata": {
    "colab": {
     "base_uri": "https://localhost:8080/",
     "height": 128
    },
    "id": "XadLRpC6-EMR",
    "outputId": "737a26c3-9ae9-4fd1-b35f-b1a3753182ba"
   },
   "outputs": [
    {
     "ename": "SyntaxError",
     "evalue": "ignored",
     "output_type": "error",
     "traceback": [
      "\u001b[0;36m  File \u001b[0;32m\"<ipython-input-10-707191cb525f>\"\u001b[0;36m, line \u001b[0;32m2\u001b[0m\n\u001b[0;31m    plt.xticks(np.arange(df['Date'][0]), max(x)+1, 1.0))\u001b[0m\n\u001b[0m                                                       ^\u001b[0m\n\u001b[0;31mSyntaxError\u001b[0m\u001b[0;31m:\u001b[0m invalid syntax\n"
     ]
    }
   ],
   "source": [
    "plt.plot(df['Date'], df['Price'])\n",
    "plt.xticks(np.arange(df['Date'][0]), max(x)+1, 1.0))"
   ]
  },
  {
   "cell_type": "code",
   "execution_count": null,
   "metadata": {
    "colab": {
     "base_uri": "https://localhost:8080/"
    },
    "id": "NMdZpSAG-MYb",
    "outputId": "8e14ee6d-7a6e-4359-be77-c28dfe9bd719"
   },
   "outputs": [
    {
     "name": "stdout",
     "output_type": "stream",
     "text": [
      "<class 'str'>\n"
     ]
    }
   ],
   "source": [
    "print(type(df['Date'][0]))"
   ]
  },
  {
   "cell_type": "code",
   "execution_count": null,
   "metadata": {
    "id": "9p3k_xqc_Oy1"
   },
   "outputs": [],
   "source": []
  }
 ],
 "metadata": {
  "colab": {
   "collapsed_sections": [],
   "name": "fuel_cleaning.ipynb",
   "provenance": []
  },
  "kernelspec": {
   "display_name": "Python 3",
   "language": "python",
   "name": "python3"
  },
  "language_info": {
   "codemirror_mode": {
    "name": "ipython",
    "version": 3
   },
   "file_extension": ".py",
   "mimetype": "text/x-python",
   "name": "python",
   "nbconvert_exporter": "python",
   "pygments_lexer": "ipython3",
   "version": "3.8.5"
  }
 },
 "nbformat": 4,
 "nbformat_minor": 1
}
